{
 "cells": [
  {
   "cell_type": "code",
   "execution_count": 1,
   "id": "a7d03d9e",
   "metadata": {
    "execution": {
     "iopub.execute_input": "2023-05-03T12:07:23.707097Z",
     "iopub.status.busy": "2023-05-03T12:07:23.706734Z",
     "iopub.status.idle": "2023-05-03T12:07:24.043148Z",
     "shell.execute_reply": "2023-05-03T12:07:24.041727Z"
    },
    "id": "MYhEWpEUSMPw",
    "outputId": "2f7afca1-6b05-4377-c60e-7785deea3e0a",
    "papermill": {
     "duration": 0.368423,
     "end_time": "2023-05-03T12:07:24.045166",
     "exception": true,
     "start_time": "2023-05-03T12:07:23.676743",
     "status": "failed"
    },
    "tags": []
   },
   "outputs": [
    {
     "ename": "ModuleNotFoundError",
     "evalue": "No module named 'google'",
     "output_type": "error",
     "traceback": [
      "\u001b[1;31m---------------------------------------------------------------------------\u001b[0m",
      "\u001b[1;31mModuleNotFoundError\u001b[0m                       Traceback (most recent call last)",
      "Cell \u001b[1;32mIn[1], line 1\u001b[0m\n\u001b[1;32m----> 1\u001b[0m \u001b[39mfrom\u001b[39;00m \u001b[39mgoogle\u001b[39;00m\u001b[39m.\u001b[39;00m\u001b[39mcolab\u001b[39;00m \u001b[39mimport\u001b[39;00m drive\n\u001b[0;32m      2\u001b[0m drive\u001b[39m.\u001b[39mmount(\u001b[39m'\u001b[39m\u001b[39m/content/drive\u001b[39m\u001b[39m'\u001b[39m)\n",
      "\u001b[1;31mModuleNotFoundError\u001b[0m: No module named 'google'"
     ]
    }
   ],
   "source": [
    "from google.colab import drive\n",
    "drive.mount('/content/drive')"
   ]
  },
  {
   "cell_type": "code",
   "execution_count": null,
   "id": "dc586316",
   "metadata": {
    "id": "I-ugd10H7dLC",
    "papermill": {
     "duration": null,
     "end_time": null,
     "exception": null,
     "start_time": null,
     "status": "pending"
    },
    "tags": []
   },
   "outputs": [],
   "source": [
    "import numpy as np \n",
    "import pandas as pd \n",
    "import matplotlib.pyplot as plt \n",
    "import seaborn as sns \n",
    "\n",
    "from sklearn import linear_model\n",
    "from sklearn import tree \n",
    "from sklearn import ensemble \n",
    "from sklearn import metrics \n",
    "from sklearn import preprocessing \n",
    "from sklearn.model_selection import train_test_split, cross_val_score\n",
    "from lightgbm import LGBMRegressor, LGBMClassifier\n",
    "from sklearn.manifold import TSNE\n",
    "from sklearn.svm import SVC\n",
    "from sklearn.linear_model import LogisticRegression\n",
    "from sklearn.ensemble import RandomForestClassifier\n",
    "from sklearn.datasets import make_classification\n",
    "import glob\n",
    "import os\n",
    "%load_ext autoreload\n",
    "%autoreload 2"
   ]
  },
  {
   "cell_type": "code",
   "execution_count": null,
   "id": "b6058452",
   "metadata": {
    "id": "F1F5JleA16IF",
    "papermill": {
     "duration": null,
     "end_time": null,
     "exception": null,
     "start_time": null,
     "status": "pending"
    },
    "tags": []
   },
   "outputs": [],
   "source": [
    "cwd = os.getcwd()"
   ]
  },
  {
   "cell_type": "code",
   "execution_count": null,
   "id": "4ecc1744",
   "metadata": {
    "id": "Zhiom8AG5bCe",
    "outputId": "2cae3845-e128-49d0-fcde-b1f44c9ef995",
    "papermill": {
     "duration": null,
     "end_time": null,
     "exception": null,
     "start_time": null,
     "status": "pending"
    },
    "tags": []
   },
   "outputs": [],
   "source": [
    "cwd = os.chdir('/content/drive/MyDrive/Kaggle/classify-cancer-type-clustering-only')\n",
    "print(os.getcwd())"
   ]
  },
  {
   "cell_type": "code",
   "execution_count": null,
   "id": "7b04178a",
   "metadata": {
    "id": "laRm7EZ52g-A",
    "outputId": "0f87ecf2-e1cf-4726-df1e-681b2d8e8b5c",
    "papermill": {
     "duration": null,
     "end_time": null,
     "exception": null,
     "start_time": null,
     "status": "pending"
    },
    "tags": []
   },
   "outputs": [],
   "source": [
    "cwd = os.getcwd()\n",
    "cwd"
   ]
  },
  {
   "cell_type": "code",
   "execution_count": null,
   "id": "fd3e1c61",
   "metadata": {
    "id": "iHXCwMiA6zw2",
    "papermill": {
     "duration": null,
     "end_time": null,
     "exception": null,
     "start_time": null,
     "status": "pending"
    },
    "tags": []
   },
   "outputs": [],
   "source": [
    "train_df = pd.read_csv(cwd +'/train_dataset.csv', index_col=0)"
   ]
  },
  {
   "cell_type": "code",
   "execution_count": null,
   "id": "e7b03d36",
   "metadata": {
    "id": "ZnKH5DD567V3",
    "outputId": "66370b90-5b19-4e57-c86a-78863b5ffb76",
    "papermill": {
     "duration": null,
     "end_time": null,
     "exception": null,
     "start_time": null,
     "status": "pending"
    },
    "tags": []
   },
   "outputs": [],
   "source": [
    "train_df.head()"
   ]
  },
  {
   "cell_type": "code",
   "execution_count": null,
   "id": "190a0671",
   "metadata": {
    "id": "6njLyimt7AFr",
    "outputId": "86fe719b-951c-4688-d77d-a324b950e173",
    "papermill": {
     "duration": null,
     "end_time": null,
     "exception": null,
     "start_time": null,
     "status": "pending"
    },
    "tags": []
   },
   "outputs": [],
   "source": [
    "train_df.shape"
   ]
  },
  {
   "cell_type": "code",
   "execution_count": null,
   "id": "8122d385",
   "metadata": {
    "id": "9OE74j63C2_L",
    "papermill": {
     "duration": null,
     "end_time": null,
     "exception": null,
     "start_time": null,
     "status": "pending"
    },
    "tags": []
   },
   "outputs": [],
   "source": [
    "test_df = pd.read_csv(cwd + '/test_dataset.csv', index_col = 0)"
   ]
  },
  {
   "cell_type": "code",
   "execution_count": null,
   "id": "26ba8820",
   "metadata": {
    "id": "lccxY1PHFn-A",
    "papermill": {
     "duration": null,
     "end_time": null,
     "exception": null,
     "start_time": null,
     "status": "pending"
    },
    "tags": []
   },
   "outputs": [],
   "source": [
    "label_mapping = {k: num for num, k in enumerate(train_df[\"label\"].unique())}\n",
    "label_mapping\n",
    "X = train_df.drop('label',axis =1)\n",
    "y = train_df[\"label\"].map(label_mapping)"
   ]
  },
  {
   "attachments": {},
   "cell_type": "markdown",
   "id": "d1755dd0",
   "metadata": {
    "id": "9myvCcNFVKPk",
    "papermill": {
     "duration": null,
     "end_time": null,
     "exception": null,
     "start_time": null,
     "status": "pending"
    },
    "tags": []
   },
   "source": [
    "# Подбир гиперпараметров для LGBMClassificator - датасет с признаками - предсказение"
   ]
  },
  {
   "cell_type": "code",
   "execution_count": null,
   "id": "5d3f388f",
   "metadata": {
    "id": "wdF94T-CTnNb",
    "outputId": "c4d84b42-c1ec-42e4-f1a5-76c24ee9db72",
    "papermill": {
     "duration": null,
     "end_time": null,
     "exception": null,
     "start_time": null,
     "status": "pending"
    },
    "tags": []
   },
   "outputs": [],
   "source": [
    "!pip install optuna"
   ]
  },
  {
   "cell_type": "code",
   "execution_count": null,
   "id": "5b9ee50f",
   "metadata": {
    "id": "PsfT19pfTqFE",
    "papermill": {
     "duration": null,
     "end_time": null,
     "exception": null,
     "start_time": null,
     "status": "pending"
    },
    "tags": []
   },
   "outputs": [],
   "source": [
    "import optuna\n",
    "from sklearn.metrics import f1_score\n",
    "from sklearn.model_selection import StratifiedKFold\n",
    "\n",
    "def objective(trial, X, y):\n",
    "    param_grid = {}  # to be filled in later\n",
    "    cv = StratifiedKFold(n_splits=5, shuffle=True, random_state=42)\n",
    "\n",
    "    scores = []\n",
    "    for idx, (train_idx, test_idx) in enumerate(cv.split(X, y)):\n",
    "        X_train, X_test = X.iloc[train_idx], X.iloc[test_idx]\n",
    "        y_train, y_test = y[train_idx], y[test_idx]\n",
    "\n",
    "        model = LGBMClassifier(objective=\"binary\", **param_grid)\n",
    "        model.fit(\n",
    "            X_train,\n",
    "            y_train,\n",
    "        )\n",
    "        preds = model.predict(X_test)\n",
    "        scores.append(f1_score(preds, y_test))\n",
    "\n",
    "    return np.mean(scores)"
   ]
  },
  {
   "cell_type": "code",
   "execution_count": null,
   "id": "8942f455",
   "metadata": {
    "id": "7ktpo9ByTtqK",
    "papermill": {
     "duration": null,
     "end_time": null,
     "exception": null,
     "start_time": null,
     "status": "pending"
    },
    "tags": []
   },
   "outputs": [],
   "source": [
    "import optuna\n",
    "from sklearn.metrics import f1_score\n",
    "from sklearn.model_selection import StratifiedKFold\n",
    "\n",
    "def objective(trial, X, y):\n",
    "    param_grid = {\n",
    "        \"objective\": 'binary',\n",
    "        \"n_estimators\": trial.suggest_int(\"n_estimators\", 10, 1500, 90),\n",
    "        \"learning_rate\": trial.suggest_float(\"learning_rate\", 0.001, 0.5),\n",
    "        #\"num_leaves\": trial.suggest_int(\"num_leaves\", 20, 3000, step=20), WRONG\n",
    "        \"max_depth\": trial.suggest_int(\"max_depth\", 3, 6),\n",
    "        \"min_data_in_leaf\": trial.suggest_int(\"min_data_in_leaf\", 0, 10000, step=100),\n",
    "        \"lambda_l1\": trial.suggest_float(\"lambda_l1\", 0.001, 1),\n",
    "        \"lambda_l2\": trial.suggest_float(\"lambda_l2\", 0.001, 1),\n",
    "        \"min_gain_to_split\": trial.suggest_float(\"min_gain_to_split\", 0, 15),\n",
    "        \"bagging_fraction\": trial.suggest_float(\n",
    "            \"bagging_fraction\", 0.2, 0.95, step=0.1\n",
    "        )\n",
    "    }\n",
    "\n",
    "    param_grid['num_leaves'] = 2**param_grid['max_depth']\n",
    "    \n",
    "    cv = StratifiedKFold(n_splits=5, shuffle=True, random_state=42)\n",
    "\n",
    "    scores = []\n",
    "\n",
    "    for idx, (train_idx, test_idx) in enumerate(cv.split(X, y)):\n",
    "        X_train, X_test = X.iloc[train_idx], X.iloc[test_idx]\n",
    "        y_train, y_test = y[train_idx], y[test_idx]\n",
    "\n",
    "        model = LGBMClassifier(**param_grid)\n",
    "\n",
    "        model.fit(\n",
    "            X_train,\n",
    "            y_train,\n",
    "        )\n",
    "\n",
    "        preds = model.predict(X_test)\n",
    "        scores.append(f1_score(preds, y_test, average='weighted'))\n",
    "\n",
    "    return np.mean(scores)"
   ]
  },
  {
   "cell_type": "code",
   "execution_count": null,
   "id": "ddf0f73f",
   "metadata": {
    "id": "QSZW6UXNceFV",
    "outputId": "1613d835-3121-434a-92bc-0239d4ebc690",
    "papermill": {
     "duration": null,
     "end_time": null,
     "exception": null,
     "start_time": null,
     "status": "pending"
    },
    "tags": []
   },
   "outputs": [],
   "source": [
    "study = optuna.create_study(direction=\"maximize\", study_name=\"LGBM Classifier\")\n",
    "func = lambda trial: objective(trial, X_train_scaler, y)\n",
    "study.optimize(func, n_trials=50)"
   ]
  },
  {
   "cell_type": "code",
   "execution_count": null,
   "id": "52ff1a1f",
   "metadata": {
    "id": "BjJdrURicpQy",
    "papermill": {
     "duration": null,
     "end_time": null,
     "exception": null,
     "start_time": null,
     "status": "pending"
    },
    "tags": []
   },
   "outputs": [],
   "source": [
    "best_trial = study.best_trial"
   ]
  },
  {
   "cell_type": "code",
   "execution_count": null,
   "id": "df477f69",
   "metadata": {
    "id": "RaR6VyV-cpQy",
    "outputId": "56450688-bfa8-4463-8af7-ad40faff11fd",
    "papermill": {
     "duration": null,
     "end_time": null,
     "exception": null,
     "start_time": null,
     "status": "pending"
    },
    "tags": []
   },
   "outputs": [],
   "source": [
    "best_trial.values"
   ]
  },
  {
   "cell_type": "code",
   "execution_count": null,
   "id": "1f034ce9",
   "metadata": {
    "id": "xfcG-m6JcpQy",
    "papermill": {
     "duration": null,
     "end_time": null,
     "exception": null,
     "start_time": null,
     "status": "pending"
    },
    "tags": []
   },
   "outputs": [],
   "source": [
    "best_trial.params"
   ]
  },
  {
   "cell_type": "code",
   "execution_count": null,
   "id": "6d6f9884",
   "metadata": {
    "id": "Pv2DR7Y3cpQy",
    "papermill": {
     "duration": null,
     "end_time": null,
     "exception": null,
     "start_time": null,
     "status": "pending"
    },
    "tags": []
   },
   "outputs": [],
   "source": [
    "best_params = best_trial.params"
   ]
  },
  {
   "cell_type": "code",
   "execution_count": null,
   "id": "db2cfa24",
   "metadata": {
    "id": "P4DYo-TEcpQy",
    "papermill": {
     "duration": null,
     "end_time": null,
     "exception": null,
     "start_time": null,
     "status": "pending"
    },
    "tags": []
   },
   "outputs": [],
   "source": [
    "modelLGBM = LGBMClassifier(**best_params)"
   ]
  },
  {
   "cell_type": "code",
   "execution_count": null,
   "id": "d60c59c6",
   "metadata": {
    "id": "3St78TN8XA9I",
    "papermill": {
     "duration": null,
     "end_time": null,
     "exception": null,
     "start_time": null,
     "status": "pending"
    },
    "tags": []
   },
   "outputs": [],
   "source": [
    "# Сохраняю, т.к. сбрасываются переменные при отключении Colab\n",
    "#model = LGBMClassifier(\n",
    "#    n_estimators = 1180,\n",
    "#    learning_rate = 0.30074249832612265,\n",
    "#    max_depth = 5,\n",
    "#    min_data_in_leaf = 300,\n",
    "#    lambda_l1 = 0.734811756051383,\n",
    "#    lambda_l2 = 0.8013373959927099,\n",
    "#    min_gain_to_split = 7.514296384060523,\n",
    "#    bagging_fraction = 0.8\n",
    "#)"
   ]
  },
  {
   "cell_type": "code",
   "execution_count": null,
   "id": "f42e490c",
   "metadata": {
    "id": "xQ-J4u-qcpQz",
    "papermill": {
     "duration": null,
     "end_time": null,
     "exception": null,
     "start_time": null,
     "status": "pending"
    },
    "tags": []
   },
   "outputs": [],
   "source": [
    "modelLGBM = LGBMClassifier(\n",
    "    n_estimators = 1180,\n",
    "    learning_rate = 0.30074249832612265,\n",
    "    max_depth = 5,\n",
    "    min_data_in_leaf = 300,\n",
    "    lambda_l1 = 0.734811756051383,\n",
    "    lambda_l2 = 0.8013373959927099,\n",
    "    min_gain_to_split = 7.514296384060523,\n",
    "    bagging_fraction = 0.8\n",
    ")"
   ]
  },
  {
   "cell_type": "code",
   "execution_count": null,
   "id": "c2bc242e",
   "metadata": {
    "id": "vKA53Ci94j-R",
    "papermill": {
     "duration": null,
     "end_time": null,
     "exception": null,
     "start_time": null,
     "status": "pending"
    },
    "tags": []
   },
   "outputs": [],
   "source": [
    "X_train, X_test, y_train, y_test = train_test_split(X, y, test_size=0.2, stratify=y, random_state=42)"
   ]
  },
  {
   "cell_type": "code",
   "execution_count": null,
   "id": "4bd5ba4e",
   "metadata": {
    "id": "lKvAE0eA4nK_",
    "outputId": "5fe04ed4-a7aa-498d-faf6-46da0b9675ac",
    "papermill": {
     "duration": null,
     "end_time": null,
     "exception": null,
     "start_time": null,
     "status": "pending"
    },
    "tags": []
   },
   "outputs": [],
   "source": [
    "modelLGBM.fit(X_train,y_train)"
   ]
  },
  {
   "cell_type": "code",
   "execution_count": null,
   "id": "cabd4574",
   "metadata": {
    "id": "DD18X4vrsKJy",
    "papermill": {
     "duration": null,
     "end_time": null,
     "exception": null,
     "start_time": null,
     "status": "pending"
    },
    "tags": []
   },
   "outputs": [],
   "source": [
    "feature_name = pd.DataFrame(data = modelLGBM.feature_name_, columns=['Name']).reset_index()\n",
    "feature_importance = pd.DataFrame(data = modelLGBM.feature_importances_, columns=['Importance']).reset_index()"
   ]
  },
  {
   "cell_type": "code",
   "execution_count": null,
   "id": "e79ecb6f",
   "metadata": {
    "id": "LQPs2zGaFP9w",
    "papermill": {
     "duration": null,
     "end_time": null,
     "exception": null,
     "start_time": null,
     "status": "pending"
    },
    "tags": []
   },
   "outputs": [],
   "source": [
    "feature = pd.merge(feature_name,feature_importance, on ='index' )\n",
    "feature_rank = feature[feature['Importance']>0]"
   ]
  },
  {
   "cell_type": "code",
   "execution_count": null,
   "id": "e9bd3172",
   "metadata": {
    "id": "0oAt6Taj9KF7",
    "outputId": "8b7c7132-f6da-4879-d3a5-a689d50bfea1",
    "papermill": {
     "duration": null,
     "end_time": null,
     "exception": null,
     "start_time": null,
     "status": "pending"
    },
    "tags": []
   },
   "outputs": [],
   "source": [
    "feature_rank.head()"
   ]
  },
  {
   "cell_type": "code",
   "execution_count": null,
   "id": "1c1045d5",
   "metadata": {
    "id": "gdqX3IN5F9Om",
    "outputId": "53e7a47f-8455-4206-b50d-bb920576b8c3",
    "papermill": {
     "duration": null,
     "end_time": null,
     "exception": null,
     "start_time": null,
     "status": "pending"
    },
    "tags": []
   },
   "outputs": [],
   "source": [
    "feature_final = list(feature_rank['Name'])\n",
    "len(feature_final)"
   ]
  },
  {
   "cell_type": "code",
   "execution_count": null,
   "id": "cd8ef26e",
   "metadata": {
    "id": "fU5NcR9RTvtf",
    "outputId": "4968a978-6855-4416-8f84-c087f1b2dc2b",
    "papermill": {
     "duration": null,
     "end_time": null,
     "exception": null,
     "start_time": null,
     "status": "pending"
    },
    "tags": []
   },
   "outputs": [],
   "source": [
    "import joblib\n",
    "joblib.dump(modelLGBM, 'modelLGBM.pkl')"
   ]
  },
  {
   "cell_type": "code",
   "execution_count": null,
   "id": "2028fc75",
   "metadata": {
    "id": "Du94BLhwAysz",
    "papermill": {
     "duration": null,
     "end_time": null,
     "exception": null,
     "start_time": null,
     "status": "pending"
    },
    "tags": []
   },
   "outputs": [],
   "source": [
    "# modelLGBM_load = joblib.load('modelLGBM.pkl')"
   ]
  },
  {
   "cell_type": "code",
   "execution_count": null,
   "id": "aba542c7",
   "metadata": {
    "id": "8FdW9jLcGaS5",
    "papermill": {
     "duration": null,
     "end_time": null,
     "exception": null,
     "start_time": null,
     "status": "pending"
    },
    "tags": []
   },
   "outputs": [],
   "source": [
    "X_train_feature = X[feature_final]\n",
    "X_test_feature = test_df[feature_final]"
   ]
  },
  {
   "attachments": {},
   "cell_type": "markdown",
   "id": "47350c67",
   "metadata": {
    "id": "CMeMpY0ewdfa",
    "papermill": {
     "duration": null,
     "end_time": null,
     "exception": null,
     "start_time": null,
     "status": "pending"
    },
    "tags": []
   },
   "source": [
    "При необходимости стандартизируем"
   ]
  },
  {
   "cell_type": "code",
   "execution_count": null,
   "id": "502b59d6",
   "metadata": {
    "id": "APGCcRbg95Cj",
    "papermill": {
     "duration": null,
     "end_time": null,
     "exception": null,
     "start_time": null,
     "status": "pending"
    },
    "tags": []
   },
   "outputs": [],
   "source": [
    "scaler = preprocessing.StandardScaler()\n",
    "X_train_scaler_feature_LGBM = scaler.fit_transform(X_train_feature)\n",
    "X_test_scaler_feature_LGBM = scaler.fit_transform(X_test_feature)"
   ]
  },
  {
   "cell_type": "code",
   "execution_count": null,
   "id": "d2f3b787",
   "metadata": {
    "id": "65rEE-L7-MfA",
    "papermill": {
     "duration": null,
     "end_time": null,
     "exception": null,
     "start_time": null,
     "status": "pending"
    },
    "tags": []
   },
   "outputs": [],
   "source": [
    "X_train, X_test, y_train, y_test = train_test_split(X_train_feature, y, test_size=0.2, stratify=y, random_state=42)"
   ]
  },
  {
   "cell_type": "code",
   "execution_count": null,
   "id": "553a8715",
   "metadata": {
    "id": "b9w0Jjet-MfA",
    "outputId": "33431442-935a-40d6-c2f5-75f5ee4a18c6",
    "papermill": {
     "duration": null,
     "end_time": null,
     "exception": null,
     "start_time": null,
     "status": "pending"
    },
    "tags": []
   },
   "outputs": [],
   "source": [
    "scores = cross_val_score(modelLGBM, X_train, y_train, cv=5)"
   ]
  },
  {
   "cell_type": "code",
   "execution_count": null,
   "id": "ee8aad63",
   "metadata": {
    "id": "1IeWkDIw-MfA",
    "outputId": "cf3a6c6f-71fa-4585-c70d-ac26d0e9abaa",
    "papermill": {
     "duration": null,
     "end_time": null,
     "exception": null,
     "start_time": null,
     "status": "pending"
    },
    "tags": []
   },
   "outputs": [],
   "source": [
    "scores"
   ]
  },
  {
   "cell_type": "code",
   "execution_count": null,
   "id": "3ee4d923",
   "metadata": {
    "id": "Aq4uDeQA-MfA",
    "outputId": "5400c25c-646e-4111-802b-ec2a5ba9f79e",
    "papermill": {
     "duration": null,
     "end_time": null,
     "exception": null,
     "start_time": null,
     "status": "pending"
    },
    "tags": []
   },
   "outputs": [],
   "source": [
    "scores.mean()"
   ]
  },
  {
   "attachments": {},
   "cell_type": "markdown",
   "id": "a736ab30",
   "metadata": {
    "id": "_2YsRuWL87Nv",
    "papermill": {
     "duration": null,
     "end_time": null,
     "exception": null,
     "start_time": null,
     "status": "pending"
    },
    "tags": []
   },
   "source": [
    "# Подбор гиперпараметров для XGBoost"
   ]
  },
  {
   "cell_type": "code",
   "execution_count": null,
   "id": "24c62e89",
   "metadata": {
    "id": "Z-Zzcpl2DM-a",
    "outputId": "a308fdf2-8a0b-49af-f178-ab9a86265256",
    "papermill": {
     "duration": null,
     "end_time": null,
     "exception": null,
     "start_time": null,
     "status": "pending"
    },
    "tags": []
   },
   "outputs": [],
   "source": [
    "!pip install xgboost"
   ]
  },
  {
   "cell_type": "code",
   "execution_count": null,
   "id": "ce59b7c3",
   "metadata": {
    "id": "NRK4aFXbTK6q",
    "outputId": "97bd6feb-74c4-4c5e-e619-2b8689f10995",
    "papermill": {
     "duration": null,
     "end_time": null,
     "exception": null,
     "start_time": null,
     "status": "pending"
    },
    "tags": []
   },
   "outputs": [],
   "source": [
    "!pip install optuna"
   ]
  },
  {
   "cell_type": "code",
   "execution_count": null,
   "id": "ae2349b8",
   "metadata": {
    "id": "LuHG3DuPD7gQ",
    "papermill": {
     "duration": null,
     "end_time": null,
     "exception": null,
     "start_time": null,
     "status": "pending"
    },
    "tags": []
   },
   "outputs": [],
   "source": [
    "import xgboost as xgb\n",
    "import optuna  # pip install optuna\n",
    "from sklearn.metrics import f1_score\n",
    "from sklearn.model_selection import StratifiedKFold"
   ]
  },
  {
   "cell_type": "code",
   "execution_count": null,
   "id": "89743e32",
   "metadata": {
    "id": "HfaMRRq7G97v",
    "papermill": {
     "duration": null,
     "end_time": null,
     "exception": null,
     "start_time": null,
     "status": "pending"
    },
    "tags": []
   },
   "outputs": [],
   "source": [
    "from xgboost import XGBClassifier\n",
    "from sklearn.metrics import accuracy_score, classification_report"
   ]
  },
  {
   "cell_type": "code",
   "execution_count": null,
   "id": "ebc03bfd",
   "metadata": {
    "id": "MgYr49T3_jEj",
    "papermill": {
     "duration": null,
     "end_time": null,
     "exception": null,
     "start_time": null,
     "status": "pending"
    },
    "tags": []
   },
   "outputs": [],
   "source": [
    "X_train, X_test, y_train, y_test = train_test_split(X, y, test_size=0.2, stratify=y, random_state=42)"
   ]
  },
  {
   "cell_type": "code",
   "execution_count": null,
   "id": "bc9b8f66",
   "metadata": {
    "id": "a6Xb1x_O9CL4",
    "papermill": {
     "duration": null,
     "end_time": null,
     "exception": null,
     "start_time": null,
     "status": "pending"
    },
    "tags": []
   },
   "outputs": [],
   "source": [
    "def objective(trial):\n",
    "    \"\"\"Define the objective function\"\"\"\n",
    "\n",
    "    params = {\n",
    "        'max_depth': trial.suggest_int('max_depth', 1, 9),\n",
    "        'learning_rate': trial.suggest_loguniform('learning_rate', 0.01, 1.0),\n",
    "        'n_estimators': trial.suggest_int('n_estimators', 50, 500),\n",
    "        'min_child_weight': trial.suggest_int('min_child_weight', 1, 10),\n",
    "        'gamma': trial.suggest_loguniform('gamma', 1e-8, 1.0),\n",
    "        'subsample': trial.suggest_loguniform('subsample', 0.01, 1.0),\n",
    "        'colsample_bytree': trial.suggest_loguniform('colsample_bytree', 0.01, 1.0),\n",
    "        'reg_alpha': trial.suggest_loguniform('reg_alpha', 1e-8, 1.0),\n",
    "        'reg_lambda': trial.suggest_loguniform('reg_lambda', 1e-8, 1.0),\n",
    "        'eval_metric': 'mlogloss',\n",
    "        'use_label_encoder': False\n",
    "    }\n",
    "\n",
    "    # Fit the model\n",
    "    optuna_model = XGBClassifier(**params)\n",
    "    optuna_model.fit(X_train, y_train)\n",
    "\n",
    "    # Make predictions\n",
    "    y_pred = optuna_model.predict(X_test)\n",
    "\n",
    "    # Evaluate predictions\n",
    "    accuracy = accuracy_score(y_test, y_pred)\n",
    "    return accuracy"
   ]
  },
  {
   "cell_type": "code",
   "execution_count": null,
   "id": "80f93bc1",
   "metadata": {
    "id": "Bhkn6dCFG2da",
    "outputId": "50e572f5-9c46-47e3-a9a8-41e60f9d4587",
    "papermill": {
     "duration": null,
     "end_time": null,
     "exception": null,
     "start_time": null,
     "status": "pending"
    },
    "tags": []
   },
   "outputs": [],
   "source": [
    "study = optuna.create_study(direction='maximize')"
   ]
  },
  {
   "cell_type": "code",
   "execution_count": null,
   "id": "3519d574",
   "metadata": {
    "id": "NsVlLjMs9pGA",
    "papermill": {
     "duration": null,
     "end_time": null,
     "exception": null,
     "start_time": null,
     "status": "pending"
    },
    "tags": []
   },
   "outputs": [],
   "source": [
    "study.optimize(objective, n_trials=100)"
   ]
  },
  {
   "cell_type": "code",
   "execution_count": null,
   "id": "a5f467dc",
   "metadata": {
    "id": "egqZM5VY9xJL",
    "outputId": "42a7b9d6-1132-42a6-bd13-a038e9a7f20d",
    "papermill": {
     "duration": null,
     "end_time": null,
     "exception": null,
     "start_time": null,
     "status": "pending"
    },
    "tags": []
   },
   "outputs": [],
   "source": [
    "print('Number of finished trials: {}'.format(len(study.trials)))\n",
    "print('Best trial:')\n",
    "trial = study.best_trial\n",
    "\n",
    "print('  Value: {}'.format(trial.value))\n",
    "print('  Params: ')\n",
    "\n",
    "for key, value in trial.params.items():\n",
    "    print('    {}: {}'.format(key, value))"
   ]
  },
  {
   "attachments": {},
   "cell_type": "markdown",
   "id": "6b76b578",
   "metadata": {
    "id": "qWScXJLn0hFn",
    "papermill": {
     "duration": null,
     "end_time": null,
     "exception": null,
     "start_time": null,
     "status": "pending"
    },
    "tags": []
   },
   "source": [
    "Best trial:\n",
    "  Value: 0.9418181818181818\n",
    "  Params: \n",
    "    max_depth: 5\n",
    "    learning_rate: 0.3133913754259897\n",
    "    n_estimators: 391\n",
    "    min_child_weight: 6\n",
    "    gamma: 2.1257856527281565e-07\n",
    "    subsample: 0.37862385631000617\n",
    "    colsample_bytree: 0.1578019328479794\n",
    "    reg_alpha: 9.661666006983265e-06\n",
    "    reg_lambda: 0.0010438083055327087"
   ]
  },
  {
   "cell_type": "code",
   "execution_count": null,
   "id": "72e92caa",
   "metadata": {
    "id": "LdX7q4JFHqWn",
    "papermill": {
     "duration": null,
     "end_time": null,
     "exception": null,
     "start_time": null,
     "status": "pending"
    },
    "tags": []
   },
   "outputs": [],
   "source": [
    "params = trial.params"
   ]
  },
  {
   "cell_type": "code",
   "execution_count": null,
   "id": "e80f4d77",
   "metadata": {
    "id": "0EMKkn3H1sS-",
    "papermill": {
     "duration": null,
     "end_time": null,
     "exception": null,
     "start_time": null,
     "status": "pending"
    },
    "tags": []
   },
   "outputs": [],
   "source": [
    "# Сохранил лучшие параметры, добавив к ним мультикласс:softmax\n",
    "# и количество классов = 8\n",
    "modelXGBC = XGBClassifier(\n",
    "    max_depth = 5,  learning_rate = 0.3133913754259897,\n",
    "    n_estimators = 391, min_child_weight = 6, \n",
    "    gamma = 2.1257856527281565e-07, subsample = 0.37862385631000617,\n",
    "    colsample_bytree = 0.1578019328479794,\n",
    "    reg_alpha = 9.661666006983265e-06, reg_lambda = 0.,\n",
    "    objective= \"multi:softmax\", num_class = 8\n",
    ")"
   ]
  },
  {
   "cell_type": "code",
   "execution_count": null,
   "id": "11a5abbe",
   "metadata": {
    "id": "KSSHLtDW2Eqt",
    "outputId": "f3ce0fa8-758b-4d85-c41e-34db8f2b855e",
    "papermill": {
     "duration": null,
     "end_time": null,
     "exception": null,
     "start_time": null,
     "status": "pending"
    },
    "tags": []
   },
   "outputs": [],
   "source": [
    "modelXGBC"
   ]
  },
  {
   "cell_type": "code",
   "execution_count": null,
   "id": "4b4f6fe2",
   "metadata": {
    "id": "0LPQ5gtiHsfs",
    "papermill": {
     "duration": null,
     "end_time": null,
     "exception": null,
     "start_time": null,
     "status": "pending"
    },
    "tags": []
   },
   "outputs": [],
   "source": [
    "#modelXGBC = XGBClassifier(**params)\n",
    "modelXGBC = modelXGBC.fit(X_train, y_train) "
   ]
  },
  {
   "cell_type": "code",
   "execution_count": null,
   "id": "51db99e5",
   "metadata": {
    "id": "CzFcMXUmHuGM",
    "papermill": {
     "duration": null,
     "end_time": null,
     "exception": null,
     "start_time": null,
     "status": "pending"
    },
    "tags": []
   },
   "outputs": [],
   "source": [
    "y_pred = modelXGBC.predict(X_test)"
   ]
  },
  {
   "cell_type": "code",
   "execution_count": null,
   "id": "07c28e33",
   "metadata": {
    "id": "9lxvkEHtHwYl",
    "outputId": "6e36ea30-e6de-468b-c764-23c462f68643",
    "papermill": {
     "duration": null,
     "end_time": null,
     "exception": null,
     "start_time": null,
     "status": "pending"
    },
    "tags": []
   },
   "outputs": [],
   "source": [
    "accuracy = accuracy_score(y_test, y_pred)\n",
    "print(\"Accuracy after tuning: %.2f%%\" % (accuracy * 100.0))"
   ]
  },
  {
   "cell_type": "code",
   "execution_count": null,
   "id": "d8e5f64d",
   "metadata": {
    "id": "3L81GESMHx88",
    "outputId": "9bea9137-689a-42b6-df2f-3a4c0d2daa02",
    "papermill": {
     "duration": null,
     "end_time": null,
     "exception": null,
     "start_time": null,
     "status": "pending"
    },
    "tags": []
   },
   "outputs": [],
   "source": [
    "print(classification_report(y_test, y_pred))"
   ]
  },
  {
   "cell_type": "code",
   "execution_count": null,
   "id": "28352b14",
   "metadata": {
    "id": "dSw65g3TBDIu",
    "papermill": {
     "duration": null,
     "end_time": null,
     "exception": null,
     "start_time": null,
     "status": "pending"
    },
    "tags": []
   },
   "outputs": [],
   "source": [
    "import joblib\n",
    "joblib.dump(modelXGBC, 'modelXGBCFullfeature.pkl')"
   ]
  },
  {
   "cell_type": "code",
   "execution_count": null,
   "id": "98e718f1",
   "metadata": {
    "id": "kOgQmgpiBHxa",
    "papermill": {
     "duration": null,
     "end_time": null,
     "exception": null,
     "start_time": null,
     "status": "pending"
    },
    "tags": []
   },
   "outputs": [],
   "source": [
    "import joblib\n",
    "modelXGBC = joblib.load('modelXGBCFullfeature.pkl')"
   ]
  },
  {
   "attachments": {},
   "cell_type": "markdown",
   "id": "5616cb37",
   "metadata": {
    "id": "9VfWssKhAbhM",
    "papermill": {
     "duration": null,
     "end_time": null,
     "exception": null,
     "start_time": null,
     "status": "pending"
    },
    "tags": []
   },
   "source": [
    "Важные признаки по мнению XGBClassifier"
   ]
  },
  {
   "cell_type": "code",
   "execution_count": null,
   "id": "88761a26",
   "metadata": {
    "id": "h8jriQRNJiJs",
    "papermill": {
     "duration": null,
     "end_time": null,
     "exception": null,
     "start_time": null,
     "status": "pending"
    },
    "tags": []
   },
   "outputs": [],
   "source": [
    "from sklearn.feature_selection import SelectFromModel"
   ]
  },
  {
   "cell_type": "code",
   "execution_count": null,
   "id": "6b13707d",
   "metadata": {
    "id": "sBSSftVYMWdI",
    "papermill": {
     "duration": null,
     "end_time": null,
     "exception": null,
     "start_time": null,
     "status": "pending"
    },
    "tags": []
   },
   "outputs": [],
   "source": [
    "from numpy import loadtxt\n",
    "from numpy import sort"
   ]
  },
  {
   "cell_type": "code",
   "execution_count": null,
   "id": "7b91f7f2",
   "metadata": {
    "id": "oMi6er16sW_i",
    "papermill": {
     "duration": null,
     "end_time": null,
     "exception": null,
     "start_time": null,
     "status": "pending"
    },
    "tags": []
   },
   "outputs": [],
   "source": [
    "feat_names = list(train_df.columns)\n",
    "def get_xgb_imp(xgb, feat_names):\n",
    "    imp_vals = modelXGBC.get_booster().get_score(importance_type='weight')\n",
    "    feats_imp = pd.DataFrame(imp_vals,index=np.arange(2)).T\n",
    "    feats_imp.iloc[:,0]= feats_imp.index\n",
    "    feats_imp.columns=['feature','importance']\n",
    "    feats_imp.sort_values('importance',inplace=True,ascending=False)\n",
    "    feats_imp.reset_index(drop=True,inplace=True)\n",
    "    return feats_imp\n",
    "feat_names = np.array(train_df.columns)\n",
    "feature_importance_df = get_xgb_imp(modelXGBC, feat_names)"
   ]
  },
  {
   "cell_type": "code",
   "execution_count": null,
   "id": "cf7a2cd1",
   "metadata": {
    "id": "4n8M2xSCeXVU",
    "outputId": "31391d39-1345-4ab1-ed21-3dd0ddcc70b7",
    "papermill": {
     "duration": null,
     "end_time": null,
     "exception": null,
     "start_time": null,
     "status": "pending"
    },
    "tags": []
   },
   "outputs": [],
   "source": [
    "feature_importance_df"
   ]
  },
  {
   "cell_type": "code",
   "execution_count": null,
   "id": "80ebbd54",
   "metadata": {
    "id": "jFFbtX1rxLa1",
    "papermill": {
     "duration": null,
     "end_time": null,
     "exception": null,
     "start_time": null,
     "status": "pending"
    },
    "tags": []
   },
   "outputs": [],
   "source": [
    "feature_importance_df_select = feature_importance_df['feature']"
   ]
  },
  {
   "cell_type": "code",
   "execution_count": null,
   "id": "63ddb2e5",
   "metadata": {
    "id": "XU_rXGQit1qZ",
    "outputId": "519fda19-1df4-4c95-cb39-d492a12b7277",
    "papermill": {
     "duration": null,
     "end_time": null,
     "exception": null,
     "start_time": null,
     "status": "pending"
    },
    "tags": []
   },
   "outputs": [],
   "source": [
    "feature_importance_df_select"
   ]
  },
  {
   "cell_type": "code",
   "execution_count": null,
   "id": "9f3c5ae7",
   "metadata": {
    "id": "nfnUN_Wt7nkn",
    "papermill": {
     "duration": null,
     "end_time": null,
     "exception": null,
     "start_time": null,
     "status": "pending"
    },
    "tags": []
   },
   "outputs": [],
   "source": [
    "feature_importance_df_select = pd.DataFrame(data = feature_importance_df_select)"
   ]
  },
  {
   "cell_type": "code",
   "execution_count": null,
   "id": "2919a81e",
   "metadata": {
    "id": "affTE8tx-wFM",
    "outputId": "f2b1b752-818a-4867-f504-572866efc68f",
    "papermill": {
     "duration": null,
     "end_time": null,
     "exception": null,
     "start_time": null,
     "status": "pending"
    },
    "tags": []
   },
   "outputs": [],
   "source": [
    "feature_final_XGBC = list(feature_importance_df_select['feature'])\n",
    "feature_final_XGBC"
   ]
  },
  {
   "cell_type": "code",
   "execution_count": null,
   "id": "b1d565c4",
   "metadata": {
    "id": "d78I0ovb_xrL",
    "outputId": "c5c86783-c081-4ac4-bd93-95a948080b1d",
    "papermill": {
     "duration": null,
     "end_time": null,
     "exception": null,
     "start_time": null,
     "status": "pending"
    },
    "tags": []
   },
   "outputs": [],
   "source": [
    "X_train_feature_XGBC = train_df[feature_final_XGBC]\n",
    "X_train_feature_XGBC.head()"
   ]
  },
  {
   "cell_type": "code",
   "execution_count": null,
   "id": "1177cae0",
   "metadata": {
    "id": "3sNSXy-yANVk",
    "outputId": "63e50fd7-831a-42d8-afc1-4fa8aad4e223",
    "papermill": {
     "duration": null,
     "end_time": null,
     "exception": null,
     "start_time": null,
     "status": "pending"
    },
    "tags": []
   },
   "outputs": [],
   "source": [
    "X_test_feature_XGBC = test_df[feature_final_XGBC]\n",
    "X_test_feature_XGBC.head()"
   ]
  },
  {
   "attachments": {},
   "cell_type": "markdown",
   "id": "49a66910",
   "metadata": {
    "id": "dKdR5JwkBRWR",
    "papermill": {
     "duration": null,
     "end_time": null,
     "exception": null,
     "start_time": null,
     "status": "pending"
    },
    "tags": []
   },
   "source": [
    "Дальше была игра с исключением и включением признаков, которые могут потенциально улучшить предсказание brest1/brest3"
   ]
  },
  {
   "cell_type": "code",
   "execution_count": null,
   "id": "3bcaf96b",
   "metadata": {
    "id": "WYDVtkLkDkol",
    "papermill": {
     "duration": null,
     "end_time": null,
     "exception": null,
     "start_time": null,
     "status": "pending"
    },
    "tags": []
   },
   "outputs": [],
   "source": [
    "X_train_feature_XGBC = X_train_feature_XGBC.drop(columns='ROPN1')\n",
    "X_test_feature_XGBC = X_test_feature_XGBC.drop(columns='ROPN1')"
   ]
  },
  {
   "cell_type": "code",
   "execution_count": null,
   "id": "f56687ca",
   "metadata": {
    "id": "mPFovxqtLaMQ",
    "papermill": {
     "duration": null,
     "end_time": null,
     "exception": null,
     "start_time": null,
     "status": "pending"
    },
    "tags": []
   },
   "outputs": [],
   "source": [
    "#X_train_feature_XGBC['MUCL1'] = train_df['MUCL1']\n",
    "#X_test_feature_XGBC['MUCL1'] = test_df['MUCL1']"
   ]
  },
  {
   "cell_type": "code",
   "execution_count": null,
   "id": "3e0b49aa",
   "metadata": {
    "id": "GNjAMXcpN6aW",
    "papermill": {
     "duration": null,
     "end_time": null,
     "exception": null,
     "start_time": null,
     "status": "pending"
    },
    "tags": []
   },
   "outputs": [],
   "source": [
    "X_train_feature_XGBC['TRBV7-6'] = train_df['TRBV7-6']\n",
    "X_test_feature_XGBC['TRBV7-6'] = test_df['TRBV7-6']"
   ]
  },
  {
   "cell_type": "code",
   "execution_count": null,
   "id": "c62451b8",
   "metadata": {
    "id": "GeRuXKEcQ3Mi",
    "papermill": {
     "duration": null,
     "end_time": null,
     "exception": null,
     "start_time": null,
     "status": "pending"
    },
    "tags": []
   },
   "outputs": [],
   "source": [
    "#X_train_feature_XGBC['ALB'] = train_df['ALB']\n",
    "#X_test_feature_XGBC['ALB'] = test_df['ALB']"
   ]
  },
  {
   "cell_type": "code",
   "execution_count": null,
   "id": "39695900",
   "metadata": {
    "id": "0-QcRaDjQOXC",
    "papermill": {
     "duration": null,
     "end_time": null,
     "exception": null,
     "start_time": null,
     "status": "pending"
    },
    "tags": []
   },
   "outputs": [],
   "source": [
    "#X_train_feature_XGBC['SMR3B'] = train_df['SMR3B']"
   ]
  },
  {
   "cell_type": "code",
   "execution_count": null,
   "id": "ec27da3b",
   "metadata": {
    "id": "xcHyVFQfPlmX",
    "papermill": {
     "duration": null,
     "end_time": null,
     "exception": null,
     "start_time": null,
     "status": "pending"
    },
    "tags": []
   },
   "outputs": [],
   "source": [
    "#X_train_feature_XGBC['IGLV2-11'] = train_df['IGLV2-11']"
   ]
  },
  {
   "cell_type": "code",
   "execution_count": null,
   "id": "b395fb63",
   "metadata": {
    "id": "Cd37zMXyO_Xt",
    "papermill": {
     "duration": null,
     "end_time": null,
     "exception": null,
     "start_time": null,
     "status": "pending"
    },
    "tags": []
   },
   "outputs": [],
   "source": [
    "#X_train_feature_XGBC['CSN1S1'] = train_df['CSN1S1']"
   ]
  },
  {
   "cell_type": "code",
   "execution_count": null,
   "id": "fad1f978",
   "metadata": {
    "id": "FZGdZ8cZNs1y",
    "papermill": {
     "duration": null,
     "end_time": null,
     "exception": null,
     "start_time": null,
     "status": "pending"
    },
    "tags": []
   },
   "outputs": [],
   "source": [
    "#X_train_feature_XGBC['GAPDH'] = train_df['GAPDH']"
   ]
  },
  {
   "cell_type": "code",
   "execution_count": null,
   "id": "1d99e3c8",
   "metadata": {
    "id": "7D-geidkNER-",
    "papermill": {
     "duration": null,
     "end_time": null,
     "exception": null,
     "start_time": null,
     "status": "pending"
    },
    "tags": []
   },
   "outputs": [],
   "source": [
    "#X_train_feature_XGBC['IGKV1D-39'] = train_df['IGKV1D-39']"
   ]
  },
  {
   "cell_type": "code",
   "execution_count": null,
   "id": "28364b3d",
   "metadata": {
    "id": "gfjPoYbqL4Me",
    "papermill": {
     "duration": null,
     "end_time": null,
     "exception": null,
     "start_time": null,
     "status": "pending"
    },
    "tags": []
   },
   "outputs": [],
   "source": [
    "#X_train_feature_XGBC['LALBA'] = train_df['LALBA']"
   ]
  },
  {
   "cell_type": "code",
   "execution_count": null,
   "id": "e27242a0",
   "metadata": {
    "id": "Ma9w8iUkGAIK",
    "papermill": {
     "duration": null,
     "end_time": null,
     "exception": null,
     "start_time": null,
     "status": "pending"
    },
    "tags": []
   },
   "outputs": [],
   "source": [
    "#X_train_feature_XGBC = X_train_feature_XGBC.drop(columns='VGLL1')"
   ]
  },
  {
   "cell_type": "code",
   "execution_count": null,
   "id": "268df9f9",
   "metadata": {
    "id": "Ytq8VJ44BucT",
    "papermill": {
     "duration": null,
     "end_time": null,
     "exception": null,
     "start_time": null,
     "status": "pending"
    },
    "tags": []
   },
   "outputs": [],
   "source": [
    "#X_train_feature_XGBC['TRBV7-6'] = np.where(train_df['TRBV7-6'] > 2.1, 100 , 0)"
   ]
  },
  {
   "cell_type": "code",
   "execution_count": null,
   "id": "df730292",
   "metadata": {
    "id": "FcDRG_kkGmb1",
    "papermill": {
     "duration": null,
     "end_time": null,
     "exception": null,
     "start_time": null,
     "status": "pending"
    },
    "tags": []
   },
   "outputs": [],
   "source": [
    "#X_train_feature_XGBC = X_train_feature_XGBC.drop(columns='PTCHD3')"
   ]
  },
  {
   "cell_type": "code",
   "execution_count": null,
   "id": "8c5ca087",
   "metadata": {
    "id": "yRmbSBcvB0qD",
    "papermill": {
     "duration": null,
     "end_time": null,
     "exception": null,
     "start_time": null,
     "status": "pending"
    },
    "tags": []
   },
   "outputs": [],
   "source": [
    "#X_train_feature_XGBC['PTCHD3'] = np.where(X_train_feature_XGBC['PTCHD3'] > 0.037, 10 , 0.0)"
   ]
  },
  {
   "cell_type": "code",
   "execution_count": null,
   "id": "b0664d37",
   "metadata": {
    "id": "GLwb5YdRDqKK",
    "papermill": {
     "duration": null,
     "end_time": null,
     "exception": null,
     "start_time": null,
     "status": "pending"
    },
    "tags": []
   },
   "outputs": [],
   "source": [
    "#X_train_feature_XGBC['NXN'] = train_df['NXN']"
   ]
  },
  {
   "cell_type": "code",
   "execution_count": null,
   "id": "6ac24633",
   "metadata": {
    "id": "6buCAp4RCPKz",
    "papermill": {
     "duration": null,
     "end_time": null,
     "exception": null,
     "start_time": null,
     "status": "pending"
    },
    "tags": []
   },
   "outputs": [],
   "source": [
    "#X_train_feature_XGBC['NXN'] = np.where(train_df['NXN'] > 25, 100 , 0)"
   ]
  },
  {
   "cell_type": "code",
   "execution_count": null,
   "id": "2a4b9176",
   "metadata": {
    "id": "tt97Qv1lDNwF",
    "papermill": {
     "duration": null,
     "end_time": null,
     "exception": null,
     "start_time": null,
     "status": "pending"
    },
    "tags": []
   },
   "outputs": [],
   "source": [
    "#X_train_feature_XGBC['VGLL1'] = np.where(X_train_feature_XGBC['VGLL1'] > 29.027407, 150 , 0)"
   ]
  },
  {
   "cell_type": "code",
   "execution_count": null,
   "id": "439f3829",
   "metadata": {
    "id": "qQNhD-wkclxL",
    "papermill": {
     "duration": null,
     "end_time": null,
     "exception": null,
     "start_time": null,
     "status": "pending"
    },
    "tags": []
   },
   "outputs": [],
   "source": [
    "# Пробуем с/без стандартизацией\n",
    "scaler = preprocessing.StandardScaler()\n",
    "X_train_scaler_feature_XGBC = scaler.fit_transform(X_train_feature_XGBC)\n",
    "X_test_scaler_feature_XGBC = scaler.fit_transform(X_test_feature_XGBC)"
   ]
  },
  {
   "cell_type": "code",
   "execution_count": null,
   "id": "496f27f1",
   "metadata": {
    "id": "jj9JPubvcpQz",
    "papermill": {
     "duration": null,
     "end_time": null,
     "exception": null,
     "start_time": null,
     "status": "pending"
    },
    "tags": []
   },
   "outputs": [],
   "source": [
    "X_train, X_test, y_train, y_test = train_test_split(X_train_feature_XGBC, y, test_size=0.2, stratify=y, random_state=42)"
   ]
  },
  {
   "cell_type": "code",
   "execution_count": null,
   "id": "45c3b4bf",
   "metadata": {
    "id": "khGPXWdUCMRT",
    "outputId": "0c294ce4-9ff5-437c-964e-f0f4438b8297",
    "papermill": {
     "duration": null,
     "end_time": null,
     "exception": null,
     "start_time": null,
     "status": "pending"
    },
    "tags": []
   },
   "outputs": [],
   "source": [
    "modelXGBC.fit(X_train, y_train)"
   ]
  },
  {
   "cell_type": "code",
   "execution_count": null,
   "id": "e85e0db3",
   "metadata": {
    "id": "Mny6JKHpCeyp",
    "papermill": {
     "duration": null,
     "end_time": null,
     "exception": null,
     "start_time": null,
     "status": "pending"
    },
    "tags": []
   },
   "outputs": [],
   "source": [
    "scores = cross_val_score(modelXGBC, X_train, y_train, cv=5)"
   ]
  },
  {
   "cell_type": "code",
   "execution_count": null,
   "id": "c392b2d7",
   "metadata": {
    "id": "u2fFdyzmCeyp",
    "outputId": "c4ee3684-e39f-4c82-d513-d42401b4d429",
    "papermill": {
     "duration": null,
     "end_time": null,
     "exception": null,
     "start_time": null,
     "status": "pending"
    },
    "tags": []
   },
   "outputs": [],
   "source": [
    "scores"
   ]
  },
  {
   "cell_type": "code",
   "execution_count": null,
   "id": "975e8f74",
   "metadata": {
    "id": "qlFEtZZXCeyp",
    "outputId": "dc2b90b5-8060-49c4-aba1-5d358c2a974a",
    "papermill": {
     "duration": null,
     "end_time": null,
     "exception": null,
     "start_time": null,
     "status": "pending"
    },
    "tags": []
   },
   "outputs": [],
   "source": [
    "scores.mean()"
   ]
  },
  {
   "cell_type": "code",
   "execution_count": null,
   "id": "a4dc2ac9",
   "metadata": {
    "id": "eM4y1emVddGI",
    "outputId": "1b8a9493-b11d-4390-8655-23e90e6e933a",
    "papermill": {
     "duration": null,
     "end_time": null,
     "exception": null,
     "start_time": null,
     "status": "pending"
    },
    "tags": []
   },
   "outputs": [],
   "source": [
    "print(classification_report(y_test, y_pred))"
   ]
  },
  {
   "attachments": {},
   "cell_type": "markdown",
   "id": "1df7e3dc",
   "metadata": {
    "id": "SKlimlB_C3F2",
    "papermill": {
     "duration": null,
     "end_time": null,
     "exception": null,
     "start_time": null,
     "status": "pending"
    },
    "tags": []
   },
   "source": [
    "Повторно вижу, что 0 и 5 класс не могут определится"
   ]
  },
  {
   "attachments": {},
   "cell_type": "markdown",
   "id": "77faf183",
   "metadata": {
    "id": "LbAoRsa5UOwg",
    "papermill": {
     "duration": null,
     "end_time": null,
     "exception": null,
     "start_time": null,
     "status": "pending"
    },
    "tags": []
   },
   "source": [
    "# OneVsRest"
   ]
  },
  {
   "cell_type": "code",
   "execution_count": null,
   "id": "725a369b",
   "metadata": {
    "id": "sV7xTrK8_WMu",
    "papermill": {
     "duration": null,
     "end_time": null,
     "exception": null,
     "start_time": null,
     "status": "pending"
    },
    "tags": []
   },
   "outputs": [],
   "source": [
    "from sklearn.pipeline import make_pipeline\n",
    "from sklearn.multiclass import OneVsRestClassifier\n",
    "from sklearn.model_selection import cross_val_predict"
   ]
  },
  {
   "cell_type": "code",
   "execution_count": null,
   "id": "93a35caf",
   "metadata": {
    "id": "dbYcmI9vNohc",
    "papermill": {
     "duration": null,
     "end_time": null,
     "exception": null,
     "start_time": null,
     "status": "pending"
    },
    "tags": []
   },
   "outputs": [],
   "source": [
    "ovr = OneVsRestClassifier(\n",
    "    estimator= modelXGBC,\n",
    "    n_jobs = 3\n",
    "    )\n",
    "\n",
    "#fit model to training data\n",
    "ovr.fit(X_train, y_train)\n",
    "\n",
    "#Predications\n",
    "ovr_pred = ovr.predict(X_test)"
   ]
  },
  {
   "cell_type": "code",
   "execution_count": null,
   "id": "c1a2b8ef",
   "metadata": {
    "id": "VNOd0P3d_qXN",
    "outputId": "9f3f5fb2-a55f-4732-862f-c7130a38a686",
    "papermill": {
     "duration": null,
     "end_time": null,
     "exception": null,
     "start_time": null,
     "status": "pending"
    },
    "tags": []
   },
   "outputs": [],
   "source": [
    "from sklearn.metrics import classification_report\n",
    "from sklearn.metrics import accuracy_score\n",
    "   \n",
    "# Evaluating the model\n",
    "print(f\"Test Set Accuracy : {accuracy_score(y_test, ovr_pred) * 100} %\\n\\n\")\n",
    "print(f\"Classification Report : \\n\\n{classification_report(y_test, ovr_pred)}\")"
   ]
  },
  {
   "attachments": {},
   "cell_type": "markdown",
   "id": "5a12ad00",
   "metadata": {
    "id": "VW9IYHIvDBQP",
    "papermill": {
     "duration": null,
     "end_time": null,
     "exception": null,
     "start_time": null,
     "status": "pending"
    },
    "tags": []
   },
   "source": [
    "Наверное это глупый шаг, потому что в XGBC уже есть мультикласс"
   ]
  },
  {
   "cell_type": "code",
   "execution_count": null,
   "id": "581b2062",
   "metadata": {
    "id": "Ly-wcPbkkC4o",
    "papermill": {
     "duration": null,
     "end_time": null,
     "exception": null,
     "start_time": null,
     "status": "pending"
    },
    "tags": []
   },
   "outputs": [],
   "source": [
    "ovr_predictions = ovr.predict(X_test_scaler)"
   ]
  },
  {
   "attachments": {},
   "cell_type": "markdown",
   "id": "47c3b415",
   "metadata": {
    "id": "9eu5NPJqtGMa",
    "papermill": {
     "duration": null,
     "end_time": null,
     "exception": null,
     "start_time": null,
     "status": "pending"
    },
    "tags": []
   },
   "source": [
    "# Сама модель"
   ]
  },
  {
   "cell_type": "code",
   "execution_count": null,
   "id": "8f4e291d",
   "metadata": {
    "id": "v7iKjGNOs469",
    "papermill": {
     "duration": null,
     "end_time": null,
     "exception": null,
     "start_time": null,
     "status": "pending"
    },
    "tags": []
   },
   "outputs": [],
   "source": [
    "model_pred = modelXGBC.predict(X_test)"
   ]
  },
  {
   "cell_type": "code",
   "execution_count": null,
   "id": "36006700",
   "metadata": {
    "id": "ye1mBtU2tYoW",
    "outputId": "fba7c87f-3e6f-4217-caad-90a3de2de7c5",
    "papermill": {
     "duration": null,
     "end_time": null,
     "exception": null,
     "start_time": null,
     "status": "pending"
    },
    "tags": []
   },
   "outputs": [],
   "source": [
    "from sklearn.metrics import classification_report\n",
    "from sklearn.metrics import accuracy_score\n",
    "   \n",
    "# Evaluating the model\n",
    "print(f\"Test Set Accuracy : {accuracy_score(y_test, model_pred) * 100} %\\n\\n\")\n",
    "print(f\"Classification Report : \\n\\n{classification_report(y_test, model_pred)}\")"
   ]
  },
  {
   "attachments": {},
   "cell_type": "markdown",
   "id": "5739e8fd",
   "metadata": {
    "id": "rU1HjXpIUYu2",
    "papermill": {
     "duration": null,
     "end_time": null,
     "exception": null,
     "start_time": null,
     "status": "pending"
    },
    "tags": []
   },
   "source": [
    "# Создаем Submit"
   ]
  },
  {
   "cell_type": "code",
   "execution_count": null,
   "id": "5d95337c",
   "metadata": {
    "id": "2v4LzILYvwcc",
    "papermill": {
     "duration": null,
     "end_time": null,
     "exception": null,
     "start_time": null,
     "status": "pending"
    },
    "tags": []
   },
   "outputs": [],
   "source": [
    "model_pred = modelXGBC.predict(X_test_feature_XGBC)"
   ]
  },
  {
   "cell_type": "code",
   "execution_count": null,
   "id": "f69d6190",
   "metadata": {
    "id": "YHGa8dPvi2Y4",
    "papermill": {
     "duration": null,
     "end_time": null,
     "exception": null,
     "start_time": null,
     "status": "pending"
    },
    "tags": []
   },
   "outputs": [],
   "source": [
    "predictions_df = pd.DataFrame(\n",
    "    data=model_pred, index=test_df.index, columns=[\"Predicted\"]\n",
    ")\n",
    "predictions_df\n",
    "predictions_df.index.name = \"Id\"\n",
    "predictions_df[\"Predicted\"].map({v: k for k, v in label_mapping.items()})\n",
    "\n",
    "predictions_df[\"Predicted\"] = predictions_df[\"Predicted\"].map(\n",
    "    {v: k for k, v in label_mapping.items()})"
   ]
  },
  {
   "cell_type": "code",
   "execution_count": null,
   "id": "3c021bd3",
   "metadata": {
    "id": "Gw0x-aoNi-n4",
    "outputId": "810e481e-6886-47dc-c704-144af701308c",
    "papermill": {
     "duration": null,
     "end_time": null,
     "exception": null,
     "start_time": null,
     "status": "pending"
    },
    "tags": []
   },
   "outputs": [],
   "source": [
    "predictions_df.head()"
   ]
  },
  {
   "cell_type": "code",
   "execution_count": null,
   "id": "89a54487",
   "metadata": {
    "id": "309gMtvjjS4l",
    "papermill": {
     "duration": null,
     "end_time": null,
     "exception": null,
     "start_time": null,
     "status": "pending"
    },
    "tags": []
   },
   "outputs": [],
   "source": [
    "predictions_df.to_csv(\"submission_XGBoost_FeatureSelection.csv\")"
   ]
  },
  {
   "attachments": {},
   "cell_type": "markdown",
   "id": "fdcbef98",
   "metadata": {
    "id": "o02GQ0Zoh5g6",
    "papermill": {
     "duration": null,
     "end_time": null,
     "exception": null,
     "start_time": null,
     "status": "pending"
    },
    "tags": []
   },
   "source": [
    "# Clustering чтобы понять, что не так с 0 и 5 классом"
   ]
  },
  {
   "cell_type": "code",
   "execution_count": null,
   "id": "a19713e1",
   "metadata": {
    "id": "lGqnSHxlh_1K",
    "papermill": {
     "duration": null,
     "end_time": null,
     "exception": null,
     "start_time": null,
     "status": "pending"
    },
    "tags": []
   },
   "outputs": [],
   "source": [
    "from sklearn.manifold import TSNE"
   ]
  },
  {
   "cell_type": "code",
   "execution_count": null,
   "id": "5775a9f7",
   "metadata": {
    "id": "YLoxyODEiBg7",
    "papermill": {
     "duration": null,
     "end_time": null,
     "exception": null,
     "start_time": null,
     "status": "pending"
    },
    "tags": []
   },
   "outputs": [],
   "source": [
    "X_embedded = TSNE(n_components=2, learning_rate='auto', init='random', perplexity=5, n_iter=50000).fit_transform(X)"
   ]
  },
  {
   "cell_type": "code",
   "execution_count": null,
   "id": "c7f8825f",
   "metadata": {
    "id": "2ygYvbo5iYu3",
    "outputId": "c47f8081-8201-4140-d72e-8acdc50028ba",
    "papermill": {
     "duration": null,
     "end_time": null,
     "exception": null,
     "start_time": null,
     "status": "pending"
    },
    "tags": []
   },
   "outputs": [],
   "source": [
    "plt.figure(figsize = (10,10))\n",
    "sns.scatterplot(x=X_embedded[:, 0], y=X_embedded[:, 1], hue=y, palette=\"deep\")"
   ]
  },
  {
   "attachments": {},
   "cell_type": "markdown",
   "id": "5d6147e6",
   "metadata": {
    "id": "CdlEk1AkO1-N",
    "papermill": {
     "duration": null,
     "end_time": null,
     "exception": null,
     "start_time": null,
     "status": "pending"
    },
    "tags": []
   },
   "source": [
    "Видим, что классы наслаиваются друг на друга. Поэтому попробуем поискать различия"
   ]
  },
  {
   "attachments": {},
   "cell_type": "markdown",
   "id": "bb5e576a",
   "metadata": {
    "id": "-W0s-SL7ua19",
    "papermill": {
     "duration": null,
     "end_time": null,
     "exception": null,
     "start_time": null,
     "status": "pending"
    },
    "tags": []
   },
   "source": [
    "#  Разбираемся почему 5 и 0 класс предсказываются плохо"
   ]
  },
  {
   "attachments": {},
   "cell_type": "markdown",
   "id": "421e763e",
   "metadata": {
    "id": "Cn-5xHdnbhxA",
    "papermill": {
     "duration": null,
     "end_time": null,
     "exception": null,
     "start_time": null,
     "status": "pending"
    },
    "tags": []
   },
   "source": [
    "Сразу стоит сказать, что это оказалось не очень информативным занятием, однако удалось выяснить, что некоторые гены экспрессируется в одинаковом количестве у этих двух типов, а некоторые преобладают в определенном типе (brest1\\brest2). Но выбор этих фич для оценки - довольно трудоемкое и длительное дело, с которым ручным методом я не справился"
   ]
  },
  {
   "cell_type": "code",
   "execution_count": null,
   "id": "b97a11ac",
   "metadata": {
    "id": "yKIxz2nao-ls",
    "papermill": {
     "duration": null,
     "end_time": null,
     "exception": null,
     "start_time": null,
     "status": "pending"
    },
    "tags": []
   },
   "outputs": [],
   "source": [
    "train_df_copy = train_df[feature_final_XGBC].copy()\n",
    "label_mapping = {k: num for num, k in enumerate(train_df[\"label\"].unique())}\n",
    "label_mapping\n",
    "y = train_df[\"label\"].map(label_mapping)\n",
    "train_df_copy['label_num'] = y"
   ]
  },
  {
   "cell_type": "code",
   "execution_count": null,
   "id": "73d14f63",
   "metadata": {
    "id": "hLtIR3lJppUJ",
    "papermill": {
     "duration": null,
     "end_time": null,
     "exception": null,
     "start_time": null,
     "status": "pending"
    },
    "tags": []
   },
   "outputs": [],
   "source": [
    "brest_type1 = train_df_copy[train_df_copy['label_num']==5]"
   ]
  },
  {
   "cell_type": "code",
   "execution_count": null,
   "id": "9e43c0ee",
   "metadata": {
    "id": "6SrIG04Y1pDv",
    "outputId": "10b118dc-8a23-405a-d17f-e6e739d503d5",
    "papermill": {
     "duration": null,
     "end_time": null,
     "exception": null,
     "start_time": null,
     "status": "pending"
    },
    "tags": []
   },
   "outputs": [],
   "source": [
    "brest_type3 = train_df_copy[train_df_copy['label_num']==0]\n",
    "brest_type3.head()"
   ]
  },
  {
   "cell_type": "code",
   "execution_count": null,
   "id": "a2074e50",
   "metadata": {
    "id": "e5k2Kgbq3kZj",
    "papermill": {
     "duration": null,
     "end_time": null,
     "exception": null,
     "start_time": null,
     "status": "pending"
    },
    "tags": []
   },
   "outputs": [],
   "source": [
    "from sklearn.pipeline import make_pipeline\n",
    "from sklearn.multiclass import OneVsRestClassifier\n",
    "from sklearn.model_selection import cross_val_predict"
   ]
  },
  {
   "cell_type": "code",
   "execution_count": null,
   "id": "dde781d4",
   "metadata": {
    "id": "Zgny-AuI3wE9",
    "papermill": {
     "duration": null,
     "end_time": null,
     "exception": null,
     "start_time": null,
     "status": "pending"
    },
    "tags": []
   },
   "outputs": [],
   "source": [
    "X_train, X_test, y_train, y_test = train_test_split(X_train_feature_XGBC, y, test_size=0.2, stratify=y, random_state=42)"
   ]
  },
  {
   "cell_type": "code",
   "execution_count": null,
   "id": "47761eff",
   "metadata": {
    "id": "Korrno_5-iJb",
    "outputId": "ed3d94ec-120f-40de-b5dd-92b2fdf67e09",
    "papermill": {
     "duration": null,
     "end_time": null,
     "exception": null,
     "start_time": null,
     "status": "pending"
    },
    "tags": []
   },
   "outputs": [],
   "source": [
    "train_df_copy[['ROPN1','label_num']]"
   ]
  },
  {
   "cell_type": "code",
   "execution_count": null,
   "id": "d8a355e4",
   "metadata": {
    "id": "aD8w_LrN__Ko",
    "outputId": "1f102833-5136-4877-f1fa-488b33b15180",
    "papermill": {
     "duration": null,
     "end_time": null,
     "exception": null,
     "start_time": null,
     "status": "pending"
    },
    "tags": []
   },
   "outputs": [],
   "source": [
    "sns.scatterplot(\n",
    "    data = train_df_copy[['ROPN1','label_num']],\n",
    "    y= 'ROPN1',\n",
    "    x = 'label_num',\n",
    "    hue = 'label_num'\n",
    ")"
   ]
  },
  {
   "cell_type": "code",
   "execution_count": null,
   "id": "992fc3d3",
   "metadata": {
    "id": "dGfgNqXqBHJ0",
    "papermill": {
     "duration": null,
     "end_time": null,
     "exception": null,
     "start_time": null,
     "status": "pending"
    },
    "tags": []
   },
   "outputs": [],
   "source": [
    "df_ROPN1 = train_df_copy[['ROPN1','label_num']]\n",
    "df_ROPN1 = df_ROPN1[(df_ROPN1['label_num'] == 0) | (df_ROPN1['label_num'] == 5)]"
   ]
  },
  {
   "cell_type": "code",
   "execution_count": null,
   "id": "8c923966",
   "metadata": {
    "id": "urGU7Q9PMnfK",
    "outputId": "4fbb8c81-11f0-4ce2-b2c9-703bafaa42aa",
    "papermill": {
     "duration": null,
     "end_time": null,
     "exception": null,
     "start_time": null,
     "status": "pending"
    },
    "tags": []
   },
   "outputs": [],
   "source": [
    "df_ROPN1"
   ]
  },
  {
   "cell_type": "code",
   "execution_count": null,
   "id": "65b323d9",
   "metadata": {
    "id": "16z0QbAqDKBh",
    "outputId": "6eb0e477-3294-4956-831f-e25e6c2cb5b4",
    "papermill": {
     "duration": null,
     "end_time": null,
     "exception": null,
     "start_time": null,
     "status": "pending"
    },
    "tags": []
   },
   "outputs": [],
   "source": [
    "sns.barplot(\n",
    "    data = df_ROPN1,\n",
    "    x = 'label_num',\n",
    "    y = 'ROPN1',\n",
    "    hue = 'label_num'\n",
    ")"
   ]
  },
  {
   "cell_type": "code",
   "execution_count": null,
   "id": "89f46bb3",
   "metadata": {
    "id": "CUMS6A3aBHJ1",
    "outputId": "ce81298a-dd70-4359-8302-167f95b4db45",
    "papermill": {
     "duration": null,
     "end_time": null,
     "exception": null,
     "start_time": null,
     "status": "pending"
    },
    "tags": []
   },
   "outputs": [],
   "source": [
    "sns.scatterplot(\n",
    "    data = train_df_copy[['ROPN1','label_num']],\n",
    "    y= 'ROPN1',\n",
    "    x = 'label_num',\n",
    "    hue = 'label_num'\n",
    ")"
   ]
  },
  {
   "cell_type": "code",
   "execution_count": null,
   "id": "8c27a0cd",
   "metadata": {
    "id": "1gZeAWHJNIYh",
    "outputId": "4ee9f205-14fd-4398-f308-4b4369d0d4bd",
    "papermill": {
     "duration": null,
     "end_time": null,
     "exception": null,
     "start_time": null,
     "status": "pending"
    },
    "tags": []
   },
   "outputs": [],
   "source": [
    "df_ROPN1_breast_type3 = df_ROPN1[df_ROPN1['label_num'] == 0]\n",
    "print(df_ROPN1_breast_type3)\n",
    "df_ROPN1_breast_type3['ROPN1'].mean()"
   ]
  },
  {
   "cell_type": "code",
   "execution_count": null,
   "id": "dcf01f02",
   "metadata": {
    "id": "lIVA1t_SNaSK",
    "outputId": "924e7057-38a2-40c3-f400-c5497e2a2b17",
    "papermill": {
     "duration": null,
     "end_time": null,
     "exception": null,
     "start_time": null,
     "status": "pending"
    },
    "tags": []
   },
   "outputs": [],
   "source": [
    "df_ROPN1_breast_type1 = df_ROPN1[df_ROPN1['label_num'] == 5]\n",
    "print(df_ROPN1_breast_type1)\n",
    "df_ROPN1_breast_type1['ROPN1'].mean()"
   ]
  },
  {
   "attachments": {},
   "cell_type": "markdown",
   "id": "28c20d50",
   "metadata": {
    "id": "qSy_-lXfOCW5",
    "papermill": {
     "duration": null,
     "end_time": null,
     "exception": null,
     "start_time": null,
     "status": "pending"
    },
    "tags": []
   },
   "source": [
    "Удаляем ROPN - он будет мешать диффуренцировать"
   ]
  },
  {
   "cell_type": "code",
   "execution_count": null,
   "id": "eff67042",
   "metadata": {
    "id": "App0597sOGhC",
    "outputId": "a5acb6b5-2a54-495e-ae0c-b22465f2ab88",
    "papermill": {
     "duration": null,
     "end_time": null,
     "exception": null,
     "start_time": null,
     "status": "pending"
    },
    "tags": []
   },
   "outputs": [],
   "source": [
    "df_VGLL1_full = train_df_copy[['VGLL1','label_num']]\n",
    "df_VGLL1_full.sort_values (by = ['VGLL1'], ascending = [False])"
   ]
  },
  {
   "cell_type": "code",
   "execution_count": null,
   "id": "9d7e1184",
   "metadata": {
    "id": "qQEOht9sPemz",
    "outputId": "72eb0fa1-c22e-4f7b-e1fe-26687fff16ff",
    "papermill": {
     "duration": null,
     "end_time": null,
     "exception": null,
     "start_time": null,
     "status": "pending"
    },
    "tags": []
   },
   "outputs": [],
   "source": [
    "sns.barplot(\n",
    "    data = df_VGLL1_full,\n",
    "    x='label_num',\n",
    "    y='VGLL1'\n",
    ")"
   ]
  },
  {
   "cell_type": "code",
   "execution_count": null,
   "id": "63ebb717",
   "metadata": {
    "id": "eI05SbRvOSzi",
    "outputId": "5a2d40ac-d299-4d3b-a107-31fa6a53a191",
    "papermill": {
     "duration": null,
     "end_time": null,
     "exception": null,
     "start_time": null,
     "status": "pending"
    },
    "tags": []
   },
   "outputs": [],
   "source": [
    "df_VGLL1_brest = df_VGLL1[(df_VGLL1['label_num'] == 0) | (df_VGLL1['label_num'] == 5)]\n",
    "df_VGLL1_brest"
   ]
  },
  {
   "cell_type": "code",
   "execution_count": null,
   "id": "939223e0",
   "metadata": {
    "id": "vWg7dlR0OeYg",
    "outputId": "0b727794-a569-47ce-e4e1-c0179476c85e",
    "papermill": {
     "duration": null,
     "end_time": null,
     "exception": null,
     "start_time": null,
     "status": "pending"
    },
    "tags": []
   },
   "outputs": [],
   "source": [
    "sns.barplot(\n",
    "    data = df_VGLL1_brest,\n",
    "    x = 'label_num',\n",
    "    y='VGLL1'\n",
    ")"
   ]
  },
  {
   "cell_type": "code",
   "execution_count": null,
   "id": "6f4573ff",
   "metadata": {
    "id": "VZevosPzQL2V",
    "outputId": "096bd596-bfc3-4a9b-852e-5de0c66a9a96",
    "papermill": {
     "duration": null,
     "end_time": null,
     "exception": null,
     "start_time": null,
     "status": "pending"
    },
    "tags": []
   },
   "outputs": [],
   "source": [
    "df_VGLL1_brest[df_VGLL1_brest['label_num'] ==5].mean()"
   ]
  },
  {
   "cell_type": "code",
   "execution_count": null,
   "id": "68e8ec97",
   "metadata": {
    "id": "mpsbXPl6cTQP",
    "outputId": "429b5537-ce3a-4d95-e6e3-67710ab41d70",
    "papermill": {
     "duration": null,
     "end_time": null,
     "exception": null,
     "start_time": null,
     "status": "pending"
    },
    "tags": []
   },
   "outputs": [],
   "source": [
    "df_brest5_Analys = train_df_copy[['FOXC1','SFRP1','LRRFIP2','ROPN1','OR4N2','RPL10L','label_num']]\n",
    "df_brest5_Analys"
   ]
  },
  {
   "cell_type": "code",
   "execution_count": null,
   "id": "3110bc6a",
   "metadata": {
    "id": "-IpDLYTbdStO",
    "outputId": "4eb83a05-f522-4630-89c0-23efe9b02f81",
    "papermill": {
     "duration": null,
     "end_time": null,
     "exception": null,
     "start_time": null,
     "status": "pending"
    },
    "tags": []
   },
   "outputs": [],
   "source": [
    "sns.barplot(\n",
    "    data = df_brest5_Analys,\n",
    "    x='label_num',\n",
    "    y='FOXC1'\n",
    ")"
   ]
  },
  {
   "cell_type": "code",
   "execution_count": null,
   "id": "afccc2e9",
   "metadata": {
    "id": "TUsCtvDLdcQX",
    "outputId": "9c6a0d83-5d0d-4a99-f1bd-0baf1787453c",
    "papermill": {
     "duration": null,
     "end_time": null,
     "exception": null,
     "start_time": null,
     "status": "pending"
    },
    "tags": []
   },
   "outputs": [],
   "source": [
    "sns.barplot(\n",
    "    data = df_brest5_Analys,\n",
    "    x='label_num',\n",
    "    y='SFRP1'\n",
    ")"
   ]
  },
  {
   "cell_type": "code",
   "execution_count": null,
   "id": "d1112bb0",
   "metadata": {
    "id": "qt4Az-rRdipO",
    "outputId": "ef242346-36e6-4fcc-d92d-45c6042d7b84",
    "papermill": {
     "duration": null,
     "end_time": null,
     "exception": null,
     "start_time": null,
     "status": "pending"
    },
    "tags": []
   },
   "outputs": [],
   "source": [
    "sns.barplot(\n",
    "    data = df_brest5_Analys,\n",
    "    x='label_num',\n",
    "    y='SFRP1'\n",
    ")"
   ]
  },
  {
   "cell_type": "code",
   "execution_count": null,
   "id": "a6b8cfe5",
   "metadata": {
    "id": "VUPdVCeQekaP",
    "outputId": "1cb7e7b9-3ab2-4c89-bdf1-8205dfe83fe7",
    "papermill": {
     "duration": null,
     "end_time": null,
     "exception": null,
     "start_time": null,
     "status": "pending"
    },
    "tags": []
   },
   "outputs": [],
   "source": [
    "sns.barplot(\n",
    "    data = df_brest5_Analys,\n",
    "    x='label_num',\n",
    "    y='ROPN1'\n",
    ")"
   ]
  },
  {
   "attachments": {},
   "cell_type": "markdown",
   "id": "8576af9a",
   "metadata": {
    "id": "8n7lzM_lRkNK",
    "papermill": {
     "duration": null,
     "end_time": null,
     "exception": null,
     "start_time": null,
     "status": "pending"
    },
    "tags": []
   },
   "source": [
    "https://www.proteinatlas.org/ENSG00000065371-ROPN1/pathology"
   ]
  },
  {
   "cell_type": "code",
   "execution_count": null,
   "id": "ae90f8b4",
   "metadata": {
    "id": "3gs6HNQHf4IJ",
    "papermill": {
     "duration": null,
     "end_time": null,
     "exception": null,
     "start_time": null,
     "status": "pending"
    },
    "tags": []
   },
   "outputs": [],
   "source": [
    "sns.barplot(\n",
    "    data = df_brest5_Analys,\n",
    "    x='label_num',\n",
    "    y='ROPN1'\n",
    ")"
   ]
  },
  {
   "cell_type": "code",
   "execution_count": null,
   "id": "fa458f6f",
   "metadata": {
    "id": "QSTebWLwfkaL",
    "papermill": {
     "duration": null,
     "end_time": null,
     "exception": null,
     "start_time": null,
     "status": "pending"
    },
    "tags": []
   },
   "outputs": [],
   "source": [
    "sns.barplot(\n",
    "    data = df_brest5_Analys,\n",
    "    x='label_num',\n",
    "    y='ROPN1'\n",
    ")"
   ]
  },
  {
   "cell_type": "code",
   "execution_count": null,
   "id": "59fcf0ea",
   "metadata": {
    "id": "fB2xmgaLekzz",
    "outputId": "0ae1c854-a83e-45fc-c942-cacea8bb2697",
    "papermill": {
     "duration": null,
     "end_time": null,
     "exception": null,
     "start_time": null,
     "status": "pending"
    },
    "tags": []
   },
   "outputs": [],
   "source": [
    "sns.barplot(\n",
    "    data = df_brest5_Analys,\n",
    "    x='label_num',\n",
    "    y='RPL10L'\n",
    ")"
   ]
  },
  {
   "cell_type": "code",
   "execution_count": null,
   "id": "bd62a6a2",
   "metadata": {
    "id": "ISZ07sfsSZBB",
    "papermill": {
     "duration": null,
     "end_time": null,
     "exception": null,
     "start_time": null,
     "status": "pending"
    },
    "tags": []
   },
   "outputs": [],
   "source": []
  },
  {
   "attachments": {},
   "cell_type": "markdown",
   "id": "9b768074",
   "metadata": {
    "id": "GiUZVWJfPuDm",
    "papermill": {
     "duration": null,
     "end_time": null,
     "exception": null,
     "start_time": null,
     "status": "pending"
    },
    "tags": []
   },
   "source": [
    "Думаю стоит поиграться с признаками (основное в пункте готовый датасет с признаками)"
   ]
  },
  {
   "cell_type": "code",
   "execution_count": null,
   "id": "8b5f7ab1",
   "metadata": {
    "id": "qJkflgLiPx2t",
    "papermill": {
     "duration": null,
     "end_time": null,
     "exception": null,
     "start_time": null,
     "status": "pending"
    },
    "tags": []
   },
   "outputs": [],
   "source": [
    "#X_train_feature_XGBC['brest_type1'] = np.where(X_train_feature_XGBC['VGLL1'] > 29.027407, 150 , 1)"
   ]
  },
  {
   "cell_type": "code",
   "execution_count": null,
   "id": "31fe8465",
   "metadata": {
    "id": "uzA0TFQTVnJX",
    "outputId": "7e27c4b8-9a86-4bd2-db62-bbce8c901f3e",
    "papermill": {
     "duration": null,
     "end_time": null,
     "exception": null,
     "start_time": null,
     "status": "pending"
    },
    "tags": []
   },
   "outputs": [],
   "source": [
    "#X_train_feature_XGBC['brest_type3'] = np.where(X_train_feature_XGBC['VGLL1'] < 29.027407, 1 , 0)"
   ]
  },
  {
   "cell_type": "code",
   "execution_count": null,
   "id": "de434d67",
   "metadata": {
    "id": "r_O9LzKPS1ov",
    "papermill": {
     "duration": null,
     "end_time": null,
     "exception": null,
     "start_time": null,
     "status": "pending"
    },
    "tags": []
   },
   "outputs": [],
   "source": [
    "#X_train_feature_XGBC = X_train_feature_XGBC.drop(columns = 'VGLL1')"
   ]
  },
  {
   "attachments": {},
   "cell_type": "markdown",
   "id": "dce6517e",
   "metadata": {
    "id": "x-m-vjcqhhug",
    "papermill": {
     "duration": null,
     "end_time": null,
     "exception": null,
     "start_time": null,
     "status": "pending"
    },
    "tags": []
   },
   "source": [
    "*Данные действия добавили лишь небольшой процент точности, все-таки нужно поискать закономерности в признаках, чтобы отличить 1 и 5 предсказательный класс*****"
   ]
  },
  {
   "attachments": {},
   "cell_type": "markdown",
   "id": "cb8d0d49",
   "metadata": {
    "id": "10j9gomkPmM8",
    "papermill": {
     "duration": null,
     "end_time": null,
     "exception": null,
     "start_time": null,
     "status": "pending"
    },
    "tags": []
   },
   "source": [
    "**Поэтому попробуем грубый метод через логистическую регрессию**"
   ]
  },
  {
   "cell_type": "code",
   "execution_count": null,
   "id": "6f6f6f1c",
   "metadata": {
    "id": "CL1pu493h3xx",
    "papermill": {
     "duration": null,
     "end_time": null,
     "exception": null,
     "start_time": null,
     "status": "pending"
    },
    "tags": []
   },
   "outputs": [],
   "source": [
    "brest_type1_3 =train_df[(train_df['label'] == 'brest_type1') | (train_df['label'] == 'brest_type3')]"
   ]
  },
  {
   "cell_type": "code",
   "execution_count": null,
   "id": "f2d091aa",
   "metadata": {
    "id": "qmGMeTeCiPej",
    "papermill": {
     "duration": null,
     "end_time": null,
     "exception": null,
     "start_time": null,
     "status": "pending"
    },
    "tags": []
   },
   "outputs": [],
   "source": [
    "brest_type3 = train_df[train_df['label'] == 'brest_type3']"
   ]
  },
  {
   "cell_type": "code",
   "execution_count": null,
   "id": "6d32b9bf",
   "metadata": {
    "id": "eEW1nRwFkDe-",
    "outputId": "b88eb613-c531-458e-9958-e2328c484419",
    "papermill": {
     "duration": null,
     "end_time": null,
     "exception": null,
     "start_time": null,
     "status": "pending"
    },
    "tags": []
   },
   "outputs": [],
   "source": [
    "brest_type1_3"
   ]
  },
  {
   "cell_type": "code",
   "execution_count": null,
   "id": "0fccb8a2",
   "metadata": {
    "id": "moo_uqQuibEq",
    "papermill": {
     "duration": null,
     "end_time": null,
     "exception": null,
     "start_time": null,
     "status": "pending"
    },
    "tags": []
   },
   "outputs": [],
   "source": [
    "from sklearn import linear_model"
   ]
  },
  {
   "cell_type": "code",
   "execution_count": null,
   "id": "ab5c0692",
   "metadata": {
    "id": "lBhnLzltkJ22",
    "papermill": {
     "duration": null,
     "end_time": null,
     "exception": null,
     "start_time": null,
     "status": "pending"
    },
    "tags": []
   },
   "outputs": [],
   "source": [
    "log_reg_full = linear_model.LogisticRegression(random_state=42, max_iter=1000)"
   ]
  },
  {
   "cell_type": "code",
   "execution_count": null,
   "id": "5f5a1b5a",
   "metadata": {
    "id": "Eo24TRaNkflE",
    "papermill": {
     "duration": null,
     "end_time": null,
     "exception": null,
     "start_time": null,
     "status": "pending"
    },
    "tags": []
   },
   "outputs": [],
   "source": [
    "X = brest_type1_3.drop('label', axis=1)\n",
    "y = brest_type1_3['label']"
   ]
  },
  {
   "cell_type": "code",
   "execution_count": null,
   "id": "b0bcec7e",
   "metadata": {
    "id": "aZQdlCZylR0R",
    "papermill": {
     "duration": null,
     "end_time": null,
     "exception": null,
     "start_time": null,
     "status": "pending"
    },
    "tags": []
   },
   "outputs": [],
   "source": [
    "X_train, X_test, y_train, y_test = train_test_split(X, y, test_size=0.2, stratify=y, random_state=42)"
   ]
  },
  {
   "cell_type": "code",
   "execution_count": null,
   "id": "a4c579d6",
   "metadata": {
    "id": "DHJ5p4L0kegl",
    "outputId": "c6e21804-0648-4088-80b2-e2850eaa0dfd",
    "papermill": {
     "duration": null,
     "end_time": null,
     "exception": null,
     "start_time": null,
     "status": "pending"
    },
    "tags": []
   },
   "outputs": [],
   "source": [
    "log_reg_full.fit(X_train, y_train)"
   ]
  },
  {
   "cell_type": "code",
   "execution_count": null,
   "id": "05b97530",
   "metadata": {
    "id": "B4H-7bFGlsFG",
    "papermill": {
     "duration": null,
     "end_time": null,
     "exception": null,
     "start_time": null,
     "status": "pending"
    },
    "tags": []
   },
   "outputs": [],
   "source": [
    "y_pred2 = log_reg_full.predict(X_test)"
   ]
  },
  {
   "cell_type": "code",
   "execution_count": null,
   "id": "8271e3db",
   "metadata": {
    "id": "9y6qPuMHlRKd",
    "outputId": "e5c886de-d27e-4d77-9100-c0fffa133455",
    "papermill": {
     "duration": null,
     "end_time": null,
     "exception": null,
     "start_time": null,
     "status": "pending"
    },
    "tags": []
   },
   "outputs": [],
   "source": [
    "print(metrics.classification_report(y_test, y_pred2))"
   ]
  },
  {
   "cell_type": "code",
   "execution_count": null,
   "id": "0180d445",
   "metadata": {
    "id": "3WwtR1IJJXQc",
    "outputId": "bccb9438-6e81-4a5e-c176-6194844ad48f",
    "papermill": {
     "duration": null,
     "end_time": null,
     "exception": null,
     "start_time": null,
     "status": "pending"
    },
    "tags": []
   },
   "outputs": [],
   "source": [
    "log_reg_full.feature_names_in_"
   ]
  },
  {
   "cell_type": "code",
   "execution_count": null,
   "id": "068cdeac",
   "metadata": {
    "id": "ycNG2_GYJXEx",
    "papermill": {
     "duration": null,
     "end_time": null,
     "exception": null,
     "start_time": null,
     "status": "pending"
    },
    "tags": []
   },
   "outputs": [],
   "source": [
    "feature_lg = pd.Series(log_reg_full.coef_[0],index=log_reg_full.feature_names_in_).sort_values(ascending=False)\n",
    "feature_lg = pd.DataFrame(data = feature_lg)"
   ]
  },
  {
   "cell_type": "code",
   "execution_count": null,
   "id": "a894fce6",
   "metadata": {
    "id": "GW9r7qFgKdvx",
    "outputId": "709b57cf-7e74-4db3-d958-70e51605727f",
    "papermill": {
     "duration": null,
     "end_time": null,
     "exception": null,
     "start_time": null,
     "status": "pending"
    },
    "tags": []
   },
   "outputs": [],
   "source": [
    "feature_lg"
   ]
  },
  {
   "cell_type": "code",
   "execution_count": null,
   "id": "ac09ccf4",
   "metadata": {
    "id": "4eEP9uO5J-Ex",
    "outputId": "577b4e9b-135c-44b5-f16d-2dd658eff5f2",
    "papermill": {
     "duration": null,
     "end_time": null,
     "exception": null,
     "start_time": null,
     "status": "pending"
    },
    "tags": []
   },
   "outputs": [],
   "source": [
    "feature_lg[feature_lg[0]>0.020]"
   ]
  },
  {
   "attachments": {},
   "cell_type": "markdown",
   "id": "c027d077",
   "metadata": {
    "id": "onKNAyXFTjoj",
    "papermill": {
     "duration": null,
     "end_time": null,
     "exception": null,
     "start_time": null,
     "status": "pending"
    },
    "tags": []
   },
   "source": [
    "https://www.proteinatlas.org/humanproteome/tissue/breast#relevant_links_and_publications   - они частично соотносятся "
   ]
  },
  {
   "attachments": {},
   "cell_type": "markdown",
   "id": "e4c7be52",
   "metadata": {
    "id": "eR36OopxbIxS",
    "papermill": {
     "duration": null,
     "end_time": null,
     "exception": null,
     "start_time": null,
     "status": "pending"
    },
    "tags": []
   },
   "source": [
    "И попробуем различить на основе важности признаков от RFC"
   ]
  },
  {
   "cell_type": "code",
   "execution_count": null,
   "id": "7f59d243",
   "metadata": {
    "id": "Xl16hYYgbIxT",
    "papermill": {
     "duration": null,
     "end_time": null,
     "exception": null,
     "start_time": null,
     "status": "pending"
    },
    "tags": []
   },
   "outputs": [],
   "source": [
    "from sklearn.model_selection import GridSearchCV\n",
    "from sklearn.model_selection import RandomizedSearchCV\n",
    "from sklearn.linear_model import LogisticRegression\n",
    "from sklearn.ensemble import RandomForestClassifier\n",
    "\n",
    "# Hyperparameter grid\n",
    "params = {\n",
    "    'n_estimators': np.linspace(10, 200).astype(int),\n",
    "    'max_depth': [None] + list(np.linspace(3, 20).astype(int)),\n",
    "    'max_features': ['auto', 'sqrt', None] + list(np.arange(0.5, 1, 0.1)),\n",
    "    'max_leaf_nodes': [None] + list(np.linspace(10, 50, 500).astype(int)),\n",
    "    'min_samples_split': [2, 5, 10],\n",
    "    'bootstrap': [True, False]\n",
    "}\n",
    "\n",
    "# Estimator for use in random search\n",
    "forest = RandomForestClassifier(random_state = 42)\n",
    "\n",
    "rs_brest = GridSearchCV(estimator=forest, param_grid=params, scoring='recall', cv=3)\n",
    "\n",
    "# Fit\n",
    "rs_brest.fit(X_train, y_train)"
   ]
  },
  {
   "cell_type": "code",
   "execution_count": null,
   "id": "fa7487c1",
   "metadata": {
    "id": "Q7yVYIHkbIxT",
    "outputId": "0e302916-4005-4213-f135-23bd3455cb7a",
    "papermill": {
     "duration": null,
     "end_time": null,
     "exception": null,
     "start_time": null,
     "status": "pending"
    },
    "tags": []
   },
   "outputs": [],
   "source": [
    "import joblib\n",
    "joblib.dump(rs_brest, 'rs_brest.pkl')"
   ]
  },
  {
   "cell_type": "code",
   "execution_count": null,
   "id": "08dd56cf",
   "metadata": {
    "id": "6LgAq8_AbIxT",
    "papermill": {
     "duration": null,
     "end_time": null,
     "exception": null,
     "start_time": null,
     "status": "pending"
    },
    "tags": []
   },
   "outputs": [],
   "source": [
    "import joblib\n",
    "#rs_brest = joblib.load('rs_brest.pkl')"
   ]
  },
  {
   "cell_type": "code",
   "execution_count": null,
   "id": "e2a9ed3e",
   "metadata": {
    "id": "lBxAjCy0bIxT",
    "outputId": "19fa8d59-dd3d-491e-b913-368b91a18087",
    "papermill": {
     "duration": null,
     "end_time": null,
     "exception": null,
     "start_time": null,
     "status": "pending"
    },
    "tags": []
   },
   "outputs": [],
   "source": [
    "rs_brest.best_params_"
   ]
  },
  {
   "cell_type": "code",
   "execution_count": null,
   "id": "0b8f8337",
   "metadata": {
    "id": "lq2NLk3UbIxT",
    "papermill": {
     "duration": null,
     "end_time": null,
     "exception": null,
     "start_time": null,
     "status": "pending"
    },
    "tags": []
   },
   "outputs": [],
   "source": [
    "best_model = rs_brest.best_estimator_"
   ]
  },
  {
   "cell_type": "code",
   "execution_count": null,
   "id": "0a6ab1fd",
   "metadata": {
    "id": "KzwN0W82bIxT",
    "papermill": {
     "duration": null,
     "end_time": null,
     "exception": null,
     "start_time": null,
     "status": "pending"
    },
    "tags": []
   },
   "outputs": [],
   "source": [
    "best_params_RFC = rs_brest.best_params_"
   ]
  },
  {
   "cell_type": "code",
   "execution_count": null,
   "id": "c6adcd0c",
   "metadata": {
    "id": "Bhu4KGjmbIxT",
    "outputId": "1bc09202-559b-4064-db5c-de4225dd0313",
    "papermill": {
     "duration": null,
     "end_time": null,
     "exception": null,
     "start_time": null,
     "status": "pending"
    },
    "tags": []
   },
   "outputs": [],
   "source": [
    "RFC_brest = RandomForestClassifier(**best_params_RFC)\n",
    "RFC_brest"
   ]
  },
  {
   "cell_type": "code",
   "execution_count": null,
   "id": "ffa76bda",
   "metadata": {
    "id": "SvF7gxmgbIxT",
    "outputId": "81a08465-e79c-4d50-cc68-d33635fc56f2",
    "papermill": {
     "duration": null,
     "end_time": null,
     "exception": null,
     "start_time": null,
     "status": "pending"
    },
    "tags": []
   },
   "outputs": [],
   "source": [
    "RFC_brest.fit(X_train, y_train)"
   ]
  },
  {
   "cell_type": "code",
   "execution_count": null,
   "id": "91765b7d",
   "metadata": {
    "id": "GIbDYnn7bIxU",
    "outputId": "47e2cce5-c6bb-46ff-a186-0e2682d4a4cb",
    "papermill": {
     "duration": null,
     "end_time": null,
     "exception": null,
     "start_time": null,
     "status": "pending"
    },
    "tags": []
   },
   "outputs": [],
   "source": [
    "feature_imp = pd.Series(RFC_brest.feature_importances_,index=RFC_brest.feature_names_in_).sort_values(ascending=False)\n",
    "feature_imp"
   ]
  },
  {
   "cell_type": "code",
   "execution_count": null,
   "id": "e7a6012d",
   "metadata": {
    "id": "lgtnhlapbIxU",
    "papermill": {
     "duration": null,
     "end_time": null,
     "exception": null,
     "start_time": null,
     "status": "pending"
    },
    "tags": []
   },
   "outputs": [],
   "source": [
    "feature_df_brest = pd.DataFrame(data = feature_imp, columns =['score'])\n",
    "feature_df_brest = feature_df_brest[feature_df_brest['score']>0.002]"
   ]
  },
  {
   "cell_type": "code",
   "execution_count": null,
   "id": "42a0fe59",
   "metadata": {
    "id": "xDIbz5R0bIxU",
    "outputId": "ec5502c6-f939-4153-92fd-457400880113",
    "papermill": {
     "duration": null,
     "end_time": null,
     "exception": null,
     "start_time": null,
     "status": "pending"
    },
    "tags": []
   },
   "outputs": [],
   "source": [
    "feature_df_brest.reset_index()"
   ]
  },
  {
   "cell_type": "code",
   "execution_count": null,
   "id": "8b46d947",
   "metadata": {
    "id": "Wtj-uGgmbIxU",
    "papermill": {
     "duration": null,
     "end_time": null,
     "exception": null,
     "start_time": null,
     "status": "pending"
    },
    "tags": []
   },
   "outputs": [],
   "source": [
    "feature_df_brest_final = list(feature_df_brest.index)\n",
    "                              "
   ]
  },
  {
   "cell_type": "code",
   "execution_count": null,
   "id": "7fdab72b",
   "metadata": {
    "id": "22LX42yQbIxU",
    "papermill": {
     "duration": null,
     "end_time": null,
     "exception": null,
     "start_time": null,
     "status": "pending"
    },
    "tags": []
   },
   "outputs": [],
   "source": [
    "X_final_brest = train_df[feature_df_brest_final]"
   ]
  },
  {
   "cell_type": "code",
   "execution_count": null,
   "id": "2015c4c1",
   "metadata": {
    "id": "Vc5ksKUObIxU",
    "outputId": "fe38fd78-896d-4362-ccf9-bfa8d120d284",
    "papermill": {
     "duration": null,
     "end_time": null,
     "exception": null,
     "start_time": null,
     "status": "pending"
    },
    "tags": []
   },
   "outputs": [],
   "source": [
    "X_final_brest['label'] = train_df['label']"
   ]
  },
  {
   "cell_type": "code",
   "execution_count": null,
   "id": "9971a386",
   "metadata": {
    "id": "GwPmwlZZbIxU",
    "outputId": "26a54a69-d73e-4be6-d060-5b5b34e39c66",
    "papermill": {
     "duration": null,
     "end_time": null,
     "exception": null,
     "start_time": null,
     "status": "pending"
    },
    "tags": []
   },
   "outputs": [],
   "source": [
    "X_final_brest.columns"
   ]
  },
  {
   "cell_type": "code",
   "execution_count": null,
   "id": "98dd52b1",
   "metadata": {
    "id": "m_DB_txYo-Pg",
    "outputId": "0e302916-4005-4213-f135-23bd3455cb7a",
    "papermill": {
     "duration": null,
     "end_time": null,
     "exception": null,
     "start_time": null,
     "status": "pending"
    },
    "tags": []
   },
   "outputs": [],
   "source": [
    "import joblib\n",
    "joblib.dump(rs_brest, 'rs_brest.pkl')"
   ]
  },
  {
   "cell_type": "code",
   "execution_count": null,
   "id": "d661d26b",
   "metadata": {
    "id": "ldxL575Io3XK",
    "papermill": {
     "duration": null,
     "end_time": null,
     "exception": null,
     "start_time": null,
     "status": "pending"
    },
    "tags": []
   },
   "outputs": [],
   "source": [
    "import joblib\n",
    "#rs_brest = joblib.load('rs_brest.pkl')"
   ]
  },
  {
   "attachments": {},
   "cell_type": "markdown",
   "id": "4671a131",
   "metadata": {
    "papermill": {
     "duration": null,
     "end_time": null,
     "exception": null,
     "start_time": null,
     "status": "pending"
    },
    "tags": []
   },
   "source": [
    "Но опять же я по времени не смог найти значимые фичи для отличия, чтобы дать модели большей предсказательности."
   ]
  }
 ],
 "metadata": {
  "kernelspec": {
   "display_name": "Python 3",
   "language": "python",
   "name": "python3"
  },
  "language_info": {
   "codemirror_mode": {
    "name": "ipython",
    "version": 3
   },
   "file_extension": ".py",
   "mimetype": "text/x-python",
   "name": "python",
   "nbconvert_exporter": "python",
   "pygments_lexer": "ipython3",
   "version": "3.11.3"
  },
  "papermill": {
   "default_parameters": {},
   "duration": 14.61839,
   "end_time": "2023-05-03T12:07:27.583899",
   "environment_variables": {},
   "exception": true,
   "input_path": "__notebook__.ipynb",
   "output_path": "__notebook__.ipynb",
   "parameters": {},
   "start_time": "2023-05-03T12:07:12.965509",
   "version": "2.4.0"
  }
 },
 "nbformat": 4,
 "nbformat_minor": 5
}
